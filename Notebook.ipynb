{
 "cells": [
  {
   "cell_type": "code",
   "execution_count": null,
   "metadata": {
    "id": "eUaPearU28I4"
   },
   "outputs": [],
   "source": [
    "# Importation des Bibliothéques \n",
    "import pandas as pd\n",
    "import numpy as np\n",
    "from pandas_profiling import ProfileReport\n",
    "import matplotlib.pyplot as plt\n",
    "from numpy import isnan\n",
    "from pandas import read_csv\n",
    "import xgboost as xgb\n",
    "from sklearn.metrics import mean_squared_log_error,r2_score,mean_squared_error\n",
    "from sklearn.metrics import f1_score, accuracy_score,recall_score, precision_score, classification_report, confusion_matrix\n",
    "from sklearn.preprocessing import LabelEncoder, OneHotEncoder\n",
    "from sklearn.ensemble import RandomForestRegressor\n",
    "\n",
    "\n"
   ]
  },
  {
   "cell_type": "code",
   "execution_count": null,
   "metadata": {
    "colab": {
     "base_uri": "https://localhost:8080/",
     "height": 1000
    },
    "id": "NfXnkHbD3Pyn",
    "outputId": "65d4838b-abcc-4ee2-c4f3-5dc720b9e35b"
   },
   "outputs": [
    {
     "data": {
      "text/html": [
       "\n",
       "  <div id=\"df-20d1ffb0-864e-4b33-a0d5-0770b1a68275\">\n",
       "    <div class=\"colab-df-container\">\n",
       "      <div>\n",
       "<style scoped>\n",
       "    .dataframe tbody tr th:only-of-type {\n",
       "        vertical-align: middle;\n",
       "    }\n",
       "\n",
       "    .dataframe tbody tr th {\n",
       "        vertical-align: top;\n",
       "    }\n",
       "\n",
       "    .dataframe thead th {\n",
       "        text-align: right;\n",
       "    }\n",
       "</style>\n",
       "<table border=\"1\" class=\"dataframe\">\n",
       "  <thead>\n",
       "    <tr style=\"text-align: right;\">\n",
       "      <th></th>\n",
       "      <th>Unnamed: 0</th>\n",
       "      <th>Unnamed: 0.1</th>\n",
       "      <th>price</th>\n",
       "      <th>superficie_habitable</th>\n",
       "      <th>superficie_terrain</th>\n",
       "      <th>codeP</th>\n",
       "      <th>gouvernorat</th>\n",
       "      <th>delegation</th>\n",
       "      <th>localite</th>\n",
       "      <th>adresse</th>\n",
       "      <th>...</th>\n",
       "      <th>fonds</th>\n",
       "      <th>plein_air</th>\n",
       "      <th>salle_de_bain</th>\n",
       "      <th>constructible</th>\n",
       "      <th>service</th>\n",
       "      <th>chauffage</th>\n",
       "      <th>climatisation</th>\n",
       "      <th>cuisine</th>\n",
       "      <th>installations_sportives</th>\n",
       "      <th>description</th>\n",
       "    </tr>\n",
       "  </thead>\n",
       "  <tbody>\n",
       "    <tr>\n",
       "      <th>0</th>\n",
       "      <td>839</td>\n",
       "      <td>839</td>\n",
       "      <td>1350000.0</td>\n",
       "      <td>150.0</td>\n",
       "      <td>150.0</td>\n",
       "      <td>NaN</td>\n",
       "      <td>ZAGHOUAN</td>\n",
       "      <td>LA MARSA</td>\n",
       "      <td>Ain Zaghouan</td>\n",
       "      <td>ain zaghouan nord</td>\n",
       "      <td>...</td>\n",
       "      <td>NaN</td>\n",
       "      <td>NaN</td>\n",
       "      <td>NaN</td>\n",
       "      <td>NaN</td>\n",
       "      <td>NaN</td>\n",
       "      <td>NaN</td>\n",
       "      <td>NaN</td>\n",
       "      <td>NaN</td>\n",
       "      <td>NaN</td>\n",
       "      <td>fb.72 contacter notre conseiller en immobilier...</td>\n",
       "    </tr>\n",
       "    <tr>\n",
       "      <th>1</th>\n",
       "      <td>9909</td>\n",
       "      <td>9909</td>\n",
       "      <td>840000.0</td>\n",
       "      <td>150.0</td>\n",
       "      <td>150.0</td>\n",
       "      <td>NaN</td>\n",
       "      <td>ZAGHOUAN</td>\n",
       "      <td>LA MARSA</td>\n",
       "      <td>NaN</td>\n",
       "      <td>Ain Zaghouan, La Marsa, Tunis</td>\n",
       "      <td>...</td>\n",
       "      <td>NaN</td>\n",
       "      <td>NaN</td>\n",
       "      <td>NaN</td>\n",
       "      <td>NaN</td>\n",
       "      <td>NaN</td>\n",
       "      <td>NaN</td>\n",
       "      <td>NaN</td>\n",
       "      <td>NaN</td>\n",
       "      <td>NaN</td>\n",
       "      <td>NaN</td>\n",
       "    </tr>\n",
       "    <tr>\n",
       "      <th>2</th>\n",
       "      <td>10757</td>\n",
       "      <td>10757</td>\n",
       "      <td>850000.0</td>\n",
       "      <td>450.0</td>\n",
       "      <td>450.0</td>\n",
       "      <td>NaN</td>\n",
       "      <td>ZAGHOUAN</td>\n",
       "      <td>NaN</td>\n",
       "      <td>NaN</td>\n",
       "      <td>El Fahs, Zaghouan</td>\n",
       "      <td>...</td>\n",
       "      <td>NaN</td>\n",
       "      <td>NaN</td>\n",
       "      <td>3</td>\n",
       "      <td>NaN</td>\n",
       "      <td>NaN</td>\n",
       "      <td>NaN</td>\n",
       "      <td>NaN</td>\n",
       "      <td>NaN</td>\n",
       "      <td>NaN</td>\n",
       "      <td>NaN</td>\n",
       "    </tr>\n",
       "    <tr>\n",
       "      <th>3</th>\n",
       "      <td>25407</td>\n",
       "      <td>25407</td>\n",
       "      <td>946000.0</td>\n",
       "      <td>150.0</td>\n",
       "      <td>150.0</td>\n",
       "      <td>NaN</td>\n",
       "      <td>ZAGHOUAN</td>\n",
       "      <td>NaN</td>\n",
       "      <td>NaN</td>\n",
       "      <td>jardin de carthage, Aïn Zaghouan, Tunis</td>\n",
       "      <td>...</td>\n",
       "      <td>NaN</td>\n",
       "      <td>NaN</td>\n",
       "      <td>NaN</td>\n",
       "      <td>NaN</td>\n",
       "      <td>NaN</td>\n",
       "      <td>NaN</td>\n",
       "      <td>NaN</td>\n",
       "      <td>NaN</td>\n",
       "      <td>NaN</td>\n",
       "      <td>NaN</td>\n",
       "    </tr>\n",
       "    <tr>\n",
       "      <th>4</th>\n",
       "      <td>31229</td>\n",
       "      <td>31229</td>\n",
       "      <td>650000.0</td>\n",
       "      <td>150.0</td>\n",
       "      <td>150.0</td>\n",
       "      <td>NaN</td>\n",
       "      <td>ZAGHOUAN</td>\n",
       "      <td>NaN</td>\n",
       "      <td>NaN</td>\n",
       "      <td>Zaghouan, Zaghouan</td>\n",
       "      <td>...</td>\n",
       "      <td>NaN</td>\n",
       "      <td>NaN</td>\n",
       "      <td>NaN</td>\n",
       "      <td>NaN</td>\n",
       "      <td>NaN</td>\n",
       "      <td>NaN</td>\n",
       "      <td>NaN</td>\n",
       "      <td>NaN</td>\n",
       "      <td>NaN</td>\n",
       "      <td>NaN</td>\n",
       "    </tr>\n",
       "    <tr>\n",
       "      <th>...</th>\n",
       "      <td>...</td>\n",
       "      <td>...</td>\n",
       "      <td>...</td>\n",
       "      <td>...</td>\n",
       "      <td>...</td>\n",
       "      <td>...</td>\n",
       "      <td>...</td>\n",
       "      <td>...</td>\n",
       "      <td>...</td>\n",
       "      <td>...</td>\n",
       "      <td>...</td>\n",
       "      <td>...</td>\n",
       "      <td>...</td>\n",
       "      <td>...</td>\n",
       "      <td>...</td>\n",
       "      <td>...</td>\n",
       "      <td>...</td>\n",
       "      <td>...</td>\n",
       "      <td>...</td>\n",
       "      <td>...</td>\n",
       "      <td>...</td>\n",
       "    </tr>\n",
       "    <tr>\n",
       "      <th>14116</th>\n",
       "      <td>32472</td>\n",
       "      <td>32472</td>\n",
       "      <td>210000.0</td>\n",
       "      <td>150.0</td>\n",
       "      <td>150.0</td>\n",
       "      <td>1100.0</td>\n",
       "      <td>ZAGHOUAN</td>\n",
       "      <td>NaN</td>\n",
       "      <td>NaN</td>\n",
       "      <td>NaN</td>\n",
       "      <td>...</td>\n",
       "      <td>NaN</td>\n",
       "      <td>NaN</td>\n",
       "      <td>1</td>\n",
       "      <td>NaN</td>\n",
       "      <td>NaN</td>\n",
       "      <td>NaN</td>\n",
       "      <td>NaN</td>\n",
       "      <td>NaN</td>\n",
       "      <td>NaN</td>\n",
       "      <td>Appartement au 6 éme  étage d’une résidence sé...</td>\n",
       "    </tr>\n",
       "    <tr>\n",
       "      <th>14117</th>\n",
       "      <td>32740</td>\n",
       "      <td>32740</td>\n",
       "      <td>367000.0</td>\n",
       "      <td>150.0</td>\n",
       "      <td>150.0</td>\n",
       "      <td>2046.0</td>\n",
       "      <td>ZAGHOUAN</td>\n",
       "      <td>LA MARSA</td>\n",
       "      <td>NaN</td>\n",
       "      <td>jardin de carthage/ Ville   Tunis/ Région   ai...</td>\n",
       "      <td>...</td>\n",
       "      <td>1</td>\n",
       "      <td>NaN</td>\n",
       "      <td>3</td>\n",
       "      <td>NaN</td>\n",
       "      <td>NaN</td>\n",
       "      <td>NaN</td>\n",
       "      <td>NaN</td>\n",
       "      <td>NaN</td>\n",
       "      <td>NaN</td>\n",
       "      <td>A VENDRE Un APPARTEMENT JAMAIS HABITÉ SITUÉE A...</td>\n",
       "    </tr>\n",
       "    <tr>\n",
       "      <th>14118</th>\n",
       "      <td>32743</td>\n",
       "      <td>32743</td>\n",
       "      <td>189000.0</td>\n",
       "      <td>150.0</td>\n",
       "      <td>150.0</td>\n",
       "      <td>2046.0</td>\n",
       "      <td>ZAGHOUAN</td>\n",
       "      <td>LA MARSA</td>\n",
       "      <td>NaN</td>\n",
       "      <td>jardinx de carthage/ Ville   Tunis/ Région   a...</td>\n",
       "      <td>...</td>\n",
       "      <td>0</td>\n",
       "      <td>NaN</td>\n",
       "      <td>1</td>\n",
       "      <td>NaN</td>\n",
       "      <td>NaN</td>\n",
       "      <td>NaN</td>\n",
       "      <td>NaN</td>\n",
       "      <td>NaN</td>\n",
       "      <td>NaN</td>\n",
       "      <td>s + 1 état neuf, salon avec balcon, une chambr...</td>\n",
       "    </tr>\n",
       "    <tr>\n",
       "      <th>14119</th>\n",
       "      <td>33100</td>\n",
       "      <td>33100</td>\n",
       "      <td>216450000.0</td>\n",
       "      <td>150.0</td>\n",
       "      <td>150.0</td>\n",
       "      <td>2045.0</td>\n",
       "      <td>ZAGHOUAN</td>\n",
       "      <td>LA MARSA</td>\n",
       "      <td>NaN</td>\n",
       "      <td>N° 63 Rue Khaled Ibn El Walid, Ain Zaghouan No...</td>\n",
       "      <td>...</td>\n",
       "      <td>NaN</td>\n",
       "      <td>NaN</td>\n",
       "      <td>NaN</td>\n",
       "      <td>NaN</td>\n",
       "      <td>NaN</td>\n",
       "      <td>NaN</td>\n",
       "      <td>NaN</td>\n",
       "      <td>NaN</td>\n",
       "      <td>NaN</td>\n",
       "      <td>Immobilière Camelia est une agence de promotio...</td>\n",
       "    </tr>\n",
       "    <tr>\n",
       "      <th>14120</th>\n",
       "      <td>33665</td>\n",
       "      <td>33665</td>\n",
       "      <td>230000.0</td>\n",
       "      <td>150.0</td>\n",
       "      <td>150.0</td>\n",
       "      <td>2045.0</td>\n",
       "      <td>ZAGHOUAN</td>\n",
       "      <td>NaN</td>\n",
       "      <td>NaN</td>\n",
       "      <td>Residence Jasmine Ain Zaghouen 2045 Tunis/ Vil...</td>\n",
       "      <td>...</td>\n",
       "      <td>NaN</td>\n",
       "      <td>NaN</td>\n",
       "      <td>NaN</td>\n",
       "      <td>NaN</td>\n",
       "      <td>NaN</td>\n",
       "      <td>NaN</td>\n",
       "      <td>NaN</td>\n",
       "      <td>NaN</td>\n",
       "      <td>NaN</td>\n",
       "      <td>A Vendre appartement bien entretenu situe au 4...</td>\n",
       "    </tr>\n",
       "  </tbody>\n",
       "</table>\n",
       "<p>14121 rows × 23 columns</p>\n",
       "</div>\n",
       "      <button class=\"colab-df-convert\" onclick=\"convertToInteractive('df-20d1ffb0-864e-4b33-a0d5-0770b1a68275')\"\n",
       "              title=\"Convert this dataframe to an interactive table.\"\n",
       "              style=\"display:none;\">\n",
       "        \n",
       "  <svg xmlns=\"http://www.w3.org/2000/svg\" height=\"24px\"viewBox=\"0 0 24 24\"\n",
       "       width=\"24px\">\n",
       "    <path d=\"M0 0h24v24H0V0z\" fill=\"none\"/>\n",
       "    <path d=\"M18.56 5.44l.94 2.06.94-2.06 2.06-.94-2.06-.94-.94-2.06-.94 2.06-2.06.94zm-11 1L8.5 8.5l.94-2.06 2.06-.94-2.06-.94L8.5 2.5l-.94 2.06-2.06.94zm10 10l.94 2.06.94-2.06 2.06-.94-2.06-.94-.94-2.06-.94 2.06-2.06.94z\"/><path d=\"M17.41 7.96l-1.37-1.37c-.4-.4-.92-.59-1.43-.59-.52 0-1.04.2-1.43.59L10.3 9.45l-7.72 7.72c-.78.78-.78 2.05 0 2.83L4 21.41c.39.39.9.59 1.41.59.51 0 1.02-.2 1.41-.59l7.78-7.78 2.81-2.81c.8-.78.8-2.07 0-2.86zM5.41 20L4 18.59l7.72-7.72 1.47 1.35L5.41 20z\"/>\n",
       "  </svg>\n",
       "      </button>\n",
       "      \n",
       "  <style>\n",
       "    .colab-df-container {\n",
       "      display:flex;\n",
       "      flex-wrap:wrap;\n",
       "      gap: 12px;\n",
       "    }\n",
       "\n",
       "    .colab-df-convert {\n",
       "      background-color: #E8F0FE;\n",
       "      border: none;\n",
       "      border-radius: 50%;\n",
       "      cursor: pointer;\n",
       "      display: none;\n",
       "      fill: #1967D2;\n",
       "      height: 32px;\n",
       "      padding: 0 0 0 0;\n",
       "      width: 32px;\n",
       "    }\n",
       "\n",
       "    .colab-df-convert:hover {\n",
       "      background-color: #E2EBFA;\n",
       "      box-shadow: 0px 1px 2px rgba(60, 64, 67, 0.3), 0px 1px 3px 1px rgba(60, 64, 67, 0.15);\n",
       "      fill: #174EA6;\n",
       "    }\n",
       "\n",
       "    [theme=dark] .colab-df-convert {\n",
       "      background-color: #3B4455;\n",
       "      fill: #D2E3FC;\n",
       "    }\n",
       "\n",
       "    [theme=dark] .colab-df-convert:hover {\n",
       "      background-color: #434B5C;\n",
       "      box-shadow: 0px 1px 3px 1px rgba(0, 0, 0, 0.15);\n",
       "      filter: drop-shadow(0px 1px 2px rgba(0, 0, 0, 0.3));\n",
       "      fill: #FFFFFF;\n",
       "    }\n",
       "  </style>\n",
       "\n",
       "      <script>\n",
       "        const buttonEl =\n",
       "          document.querySelector('#df-20d1ffb0-864e-4b33-a0d5-0770b1a68275 button.colab-df-convert');\n",
       "        buttonEl.style.display =\n",
       "          google.colab.kernel.accessAllowed ? 'block' : 'none';\n",
       "\n",
       "        async function convertToInteractive(key) {\n",
       "          const element = document.querySelector('#df-20d1ffb0-864e-4b33-a0d5-0770b1a68275');\n",
       "          const dataTable =\n",
       "            await google.colab.kernel.invokeFunction('convertToInteractive',\n",
       "                                                     [key], {});\n",
       "          if (!dataTable) return;\n",
       "\n",
       "          const docLinkHtml = 'Like what you see? Visit the ' +\n",
       "            '<a target=\"_blank\" href=https://colab.research.google.com/notebooks/data_table.ipynb>data table notebook</a>'\n",
       "            + ' to learn more about interactive tables.';\n",
       "          element.innerHTML = '';\n",
       "          dataTable['output_type'] = 'display_data';\n",
       "          await google.colab.output.renderOutput(dataTable, element);\n",
       "          const docLink = document.createElement('div');\n",
       "          docLink.innerHTML = docLinkHtml;\n",
       "          element.appendChild(docLink);\n",
       "        }\n",
       "      </script>\n",
       "    </div>\n",
       "  </div>\n",
       "  "
      ],
      "text/plain": [
       "       Unnamed: 0  Unnamed: 0.1        price  superficie_habitable  \\\n",
       "0             839           839    1350000.0                 150.0   \n",
       "1            9909          9909     840000.0                 150.0   \n",
       "2           10757         10757     850000.0                 450.0   \n",
       "3           25407         25407     946000.0                 150.0   \n",
       "4           31229         31229     650000.0                 150.0   \n",
       "...           ...           ...          ...                   ...   \n",
       "14116       32472         32472     210000.0                 150.0   \n",
       "14117       32740         32740     367000.0                 150.0   \n",
       "14118       32743         32743     189000.0                 150.0   \n",
       "14119       33100         33100  216450000.0                 150.0   \n",
       "14120       33665         33665     230000.0                 150.0   \n",
       "\n",
       "       superficie_terrain   codeP gouvernorat delegation      localite  \\\n",
       "0                   150.0     NaN    ZAGHOUAN   LA MARSA  Ain Zaghouan   \n",
       "1                   150.0     NaN    ZAGHOUAN   LA MARSA           NaN   \n",
       "2                   450.0     NaN    ZAGHOUAN        NaN           NaN   \n",
       "3                   150.0     NaN    ZAGHOUAN        NaN           NaN   \n",
       "4                   150.0     NaN    ZAGHOUAN        NaN           NaN   \n",
       "...                   ...     ...         ...        ...           ...   \n",
       "14116               150.0  1100.0    ZAGHOUAN        NaN           NaN   \n",
       "14117               150.0  2046.0    ZAGHOUAN   LA MARSA           NaN   \n",
       "14118               150.0  2046.0    ZAGHOUAN   LA MARSA           NaN   \n",
       "14119               150.0  2045.0    ZAGHOUAN   LA MARSA           NaN   \n",
       "14120               150.0  2045.0    ZAGHOUAN        NaN           NaN   \n",
       "\n",
       "                                                 adresse  ... fonds  \\\n",
       "0                                      ain zaghouan nord  ...   NaN   \n",
       "1                          Ain Zaghouan, La Marsa, Tunis  ...   NaN   \n",
       "2                                      El Fahs, Zaghouan  ...   NaN   \n",
       "3                jardin de carthage, Aïn Zaghouan, Tunis  ...   NaN   \n",
       "4                                     Zaghouan, Zaghouan  ...   NaN   \n",
       "...                                                  ...  ...   ...   \n",
       "14116                                                NaN  ...   NaN   \n",
       "14117  jardin de carthage/ Ville   Tunis/ Région   ai...  ...     1   \n",
       "14118  jardinx de carthage/ Ville   Tunis/ Région   a...  ...     0   \n",
       "14119  N° 63 Rue Khaled Ibn El Walid, Ain Zaghouan No...  ...   NaN   \n",
       "14120  Residence Jasmine Ain Zaghouen 2045 Tunis/ Vil...  ...   NaN   \n",
       "\n",
       "       plein_air salle_de_bain constructible  service chauffage climatisation  \\\n",
       "0            NaN           NaN           NaN      NaN       NaN           NaN   \n",
       "1            NaN           NaN           NaN      NaN       NaN           NaN   \n",
       "2            NaN             3           NaN      NaN       NaN           NaN   \n",
       "3            NaN           NaN           NaN      NaN       NaN           NaN   \n",
       "4            NaN           NaN           NaN      NaN       NaN           NaN   \n",
       "...          ...           ...           ...      ...       ...           ...   \n",
       "14116        NaN             1           NaN      NaN       NaN           NaN   \n",
       "14117        NaN             3           NaN      NaN       NaN           NaN   \n",
       "14118        NaN             1           NaN      NaN       NaN           NaN   \n",
       "14119        NaN           NaN           NaN      NaN       NaN           NaN   \n",
       "14120        NaN           NaN           NaN      NaN       NaN           NaN   \n",
       "\n",
       "       cuisine  installations_sportives  \\\n",
       "0          NaN                      NaN   \n",
       "1          NaN                      NaN   \n",
       "2          NaN                      NaN   \n",
       "3          NaN                      NaN   \n",
       "4          NaN                      NaN   \n",
       "...        ...                      ...   \n",
       "14116      NaN                      NaN   \n",
       "14117      NaN                      NaN   \n",
       "14118      NaN                      NaN   \n",
       "14119      NaN                      NaN   \n",
       "14120      NaN                      NaN   \n",
       "\n",
       "                                             description  \n",
       "0      fb.72 contacter notre conseiller en immobilier...  \n",
       "1                                                    NaN  \n",
       "2                                                    NaN  \n",
       "3                                                    NaN  \n",
       "4                                                    NaN  \n",
       "...                                                  ...  \n",
       "14116  Appartement au 6 éme  étage d’une résidence sé...  \n",
       "14117  A VENDRE Un APPARTEMENT JAMAIS HABITÉ SITUÉE A...  \n",
       "14118  s + 1 état neuf, salon avec balcon, une chambr...  \n",
       "14119  Immobilière Camelia est une agence de promotio...  \n",
       "14120  A Vendre appartement bien entretenu situe au 4...  \n",
       "\n",
       "[14121 rows x 23 columns]"
      ]
     },
     "execution_count": 2,
     "metadata": {},
     "output_type": "execute_result"
    }
   ],
   "source": [
    "df = pd.read_csv('/content/Datafinal.csv')\n",
    "df"
   ]
  },
  {
   "cell_type": "code",
   "execution_count": null,
   "metadata": {
    "id": "_HJueAaECr6K"
   },
   "outputs": [],
   "source": []
  },
  {
   "cell_type": "code",
   "execution_count": null,
   "metadata": {
    "id": "12xfLkvU3fej"
   },
   "outputs": [],
   "source": [
    "df.drop('Unnamed: 0',\n",
    "  axis='columns', inplace=True)\n",
    "\n",
    "df.drop('Unnamed: 0.1',\n",
    "  axis='columns', inplace=True)"
   ]
  },
  {
   "cell_type": "code",
   "execution_count": null,
   "metadata": {
    "colab": {
     "base_uri": "https://localhost:8080/"
    },
    "id": "bz4UDaAw3nQM",
    "outputId": "f0773a92-fac1-490b-964c-3e5659386e39"
   },
   "outputs": [
    {
     "name": "stdout",
     "output_type": "stream",
     "text": [
      "<class 'pandas.core.frame.DataFrame'>\n",
      "RangeIndex: 14121 entries, 0 to 14120\n",
      "Data columns (total 21 columns):\n",
      " #   Column                   Non-Null Count  Dtype  \n",
      "---  ------                   --------------  -----  \n",
      " 0   price                    14121 non-null  float64\n",
      " 1   superficie_habitable     14121 non-null  float64\n",
      " 2   superficie_terrain       14121 non-null  float64\n",
      " 3   codeP                    1794 non-null   float64\n",
      " 4   gouvernorat              14121 non-null  object \n",
      " 5   delegation               10468 non-null  object \n",
      " 6   localite                 4224 non-null   object \n",
      " 7   adresse                  13168 non-null  object \n",
      " 8   anneeConst               80 non-null     object \n",
      " 9   nbpiece                  14121 non-null  int64  \n",
      " 10  typeImm                  14121 non-null  object \n",
      " 11  fonds                    626 non-null    object \n",
      " 12  plein_air                0 non-null      float64\n",
      " 13  salle_de_bain            4213 non-null   object \n",
      " 14  constructible            125 non-null    object \n",
      " 15  service                  0 non-null      float64\n",
      " 16  chauffage                0 non-null      float64\n",
      " 17  climatisation            0 non-null      float64\n",
      " 18  cuisine                  0 non-null      float64\n",
      " 19  installations_sportives  0 non-null      float64\n",
      " 20  description              5347 non-null   object \n",
      "dtypes: float64(10), int64(1), object(10)\n",
      "memory usage: 2.3+ MB\n"
     ]
    }
   ],
   "source": [
    "df.info()"
   ]
  },
  {
   "cell_type": "code",
   "execution_count": null,
   "metadata": {
    "colab": {
     "base_uri": "https://localhost:8080/"
    },
    "id": "RGAIqvVtB0Fd",
    "outputId": "213e021d-7bac-478d-edc3-e9dba763ca87"
   },
   "outputs": [
    {
     "data": {
      "text/plain": [
       "(14121, 21)"
      ]
     },
     "execution_count": 4,
     "metadata": {},
     "output_type": "execute_result"
    }
   ],
   "source": [
    "df.shape"
   ]
  },
  {
   "cell_type": "code",
   "execution_count": null,
   "metadata": {
    "colab": {
     "base_uri": "https://localhost:8080/"
    },
    "id": "qC3MsemG3s7r",
    "outputId": "35d58db2-b144-44fa-8e0e-abdce6f0c8dc"
   },
   "outputs": [
    {
     "name": "stdout",
     "output_type": "stream",
     "text": [
      "<class 'pandas.core.frame.DataFrame'>\n",
      "RangeIndex: 14121 entries, 0 to 14120\n",
      "Data columns (total 21 columns):\n",
      " #   Column                   Non-Null Count  Dtype  \n",
      "---  ------                   --------------  -----  \n",
      " 0   price                    14121 non-null  int64  \n",
      " 1   superficie_habitable     14121 non-null  int64  \n",
      " 2   superficie_terrain       14121 non-null  int64  \n",
      " 3   codeP                    1794 non-null   float64\n",
      " 4   gouvernorat              14121 non-null  int64  \n",
      " 5   delegation               14121 non-null  int64  \n",
      " 6   localite                 14121 non-null  int64  \n",
      " 7   adresse                  14121 non-null  int64  \n",
      " 8   anneeConst               14121 non-null  int64  \n",
      " 9   nbpiece                  14121 non-null  int64  \n",
      " 10  typeImm                  14121 non-null  int64  \n",
      " 11  fonds                    14121 non-null  int64  \n",
      " 12  plein_air                0 non-null      float64\n",
      " 13  salle_de_bain            14121 non-null  int64  \n",
      " 14  constructible            14121 non-null  int64  \n",
      " 15  service                  0 non-null      float64\n",
      " 16  chauffage                0 non-null      float64\n",
      " 17  climatisation            0 non-null      float64\n",
      " 18  cuisine                  0 non-null      float64\n",
      " 19  installations_sportives  0 non-null      float64\n",
      " 20  description              14121 non-null  int64  \n",
      "dtypes: float64(7), int64(14)\n",
      "memory usage: 2.3 MB\n"
     ]
    }
   ],
   "source": [
    "#Encoding of categorical variables\n",
    "from sklearn.preprocessing import LabelEncoder\n",
    "labelencoder_X=LabelEncoder()\n",
    "df['gouvernorat']=labelencoder_X.fit_transform(df['gouvernorat'])\n",
    "df['delegation']=labelencoder_X.fit_transform(df['delegation'])\n",
    "df['localite']=labelencoder_X.fit_transform(df['localite'])\n",
    "df['adresse']=labelencoder_X.fit_transform(df['adresse'])\n",
    "df['anneeConst']= labelencoder_X.fit_transform(df['anneeConst']) \n",
    "df['typeImm']= labelencoder_X.fit_transform(df['typeImm']) \n",
    "df['fonds']= labelencoder_X.fit_transform(df['fonds']) \n",
    "df['salle_de_bain'] = labelencoder_X.fit_transform(df['salle_de_bain'])\n",
    "df['constructible'] = labelencoder_X.fit_transform(df['constructible'])\n",
    "df['description'] = labelencoder_X.fit_transform(df['description'])\n",
    "df['superficie_habitable'] = labelencoder_X.fit_transform(df['superficie_habitable'])\n",
    "df['superficie_terrain'] = labelencoder_X.fit_transform(df['superficie_terrain'])\n",
    "df['price'] = labelencoder_X.fit_transform(df['price'])\n",
    "df.info()"
   ]
  },
  {
   "cell_type": "code",
   "execution_count": null,
   "metadata": {
    "colab": {
     "base_uri": "https://localhost:8080/"
    },
    "id": "PSF-BQJH4SJJ",
    "outputId": "3376dca1-1b6b-49b0-e698-4eaaaf56e16a"
   },
   "outputs": [
    {
     "data": {
      "text/plain": [
       "(12654, 21)"
      ]
     },
     "execution_count": 4,
     "metadata": {},
     "output_type": "execute_result"
    }
   ],
   "source": [
    "df.drop_duplicates(keep='first' , inplace = True)\n",
    "df.shape"
   ]
  },
  {
   "cell_type": "code",
   "execution_count": null,
   "metadata": {
    "colab": {
     "base_uri": "https://localhost:8080/"
    },
    "id": "K4drtcz6BfT7",
    "outputId": "23d52a4a-d6af-4aa6-b523-05af5ee220fd"
   },
   "outputs": [
    {
     "name": "stdout",
     "output_type": "stream",
     "text": [
      "<class 'pandas.core.frame.DataFrame'>\n",
      "Int64Index: 12654 entries, 0 to 14120\n",
      "Data columns (total 21 columns):\n",
      " #   Column                   Non-Null Count  Dtype  \n",
      "---  ------                   --------------  -----  \n",
      " 0   price                    12654 non-null  float64\n",
      " 1   superficie_habitable     12654 non-null  float64\n",
      " 2   superficie_terrain       12654 non-null  float64\n",
      " 3   codeP                    1703 non-null   float64\n",
      " 4   gouvernorat              12654 non-null  object \n",
      " 5   delegation               9177 non-null   object \n",
      " 6   localite                 3950 non-null   object \n",
      " 7   adresse                  11760 non-null  object \n",
      " 8   anneeConst               80 non-null     object \n",
      " 9   nbpiece                  12654 non-null  int64  \n",
      " 10  typeImm                  12654 non-null  object \n",
      " 11  fonds                    600 non-null    object \n",
      " 12  plein_air                0 non-null      float64\n",
      " 13  salle_de_bain            4032 non-null   object \n",
      " 14  constructible            125 non-null    object \n",
      " 15  service                  0 non-null      float64\n",
      " 16  chauffage                0 non-null      float64\n",
      " 17  climatisation            0 non-null      float64\n",
      " 18  cuisine                  0 non-null      float64\n",
      " 19  installations_sportives  0 non-null      float64\n",
      " 20  description              4891 non-null   object \n",
      "dtypes: float64(10), int64(1), object(10)\n",
      "memory usage: 2.1+ MB\n"
     ]
    }
   ],
   "source": [
    "df.info()"
   ]
  },
  {
   "cell_type": "code",
   "execution_count": null,
   "metadata": {
    "colab": {
     "base_uri": "https://localhost:8080/"
    },
    "id": "tuA8Z5vU7_oj",
    "outputId": "f6c2820f-d05b-46c6-9f43-f492c3806735"
   },
   "outputs": [
    {
     "data": {
      "text/plain": [
       "Index(['price', 'superficie_habitable', 'superficie_terrain', 'codeP',\n",
       "       'gouvernorat', 'delegation', 'localite', 'adresse', 'anneeConst',\n",
       "       'nbpiece', 'typeImm', 'fonds', 'plein_air', 'salle_de_bain',\n",
       "       'constructible', 'service', 'chauffage', 'climatisation', 'cuisine',\n",
       "       'installations_sportives', 'description'],\n",
       "      dtype='object')"
      ]
     },
     "execution_count": 7,
     "metadata": {},
     "output_type": "execute_result"
    }
   ],
   "source": [
    "df.columns"
   ]
  },
  {
   "cell_type": "code",
   "execution_count": null,
   "metadata": {
    "colab": {
     "base_uri": "https://localhost:8080/"
    },
    "id": "muS5cFqoEiA5",
    "outputId": "5efd924e-570f-4381-ddec-c6d63ffc0d26"
   },
   "outputs": [
    {
     "data": {
      "text/plain": [
       "price                          0\n",
       "superficie_habitable           0\n",
       "superficie_terrain             0\n",
       "codeP                      10951\n",
       "gouvernorat                    0\n",
       "delegation                     0\n",
       "localite                       0\n",
       "adresse                        0\n",
       "anneeConst                     0\n",
       "nbpiece                        0\n",
       "typeImm                        0\n",
       "fonds                          0\n",
       "plein_air                  12654\n",
       "salle_de_bain                  0\n",
       "constructible                  0\n",
       "service                    12654\n",
       "chauffage                  12654\n",
       "climatisation              12654\n",
       "cuisine                    12654\n",
       "installations_sportives    12654\n",
       "description                    0\n",
       "dtype: int64"
      ]
     },
     "execution_count": 8,
     "metadata": {},
     "output_type": "execute_result"
    }
   ],
   "source": [
    "df.isnull().sum()"
   ]
  },
  {
   "cell_type": "code",
   "execution_count": null,
   "metadata": {
    "colab": {
     "base_uri": "https://localhost:8080/",
     "height": 380
    },
    "id": "cswQLX3uF8Nn",
    "outputId": "6b5fd935-1c0f-4f6a-d595-51f7e1cfca4b"
   },
   "outputs": [
    {
     "ename": "AttributeError",
     "evalue": "ignored",
     "output_type": "error",
     "traceback": [
      "\u001b[0;31m---------------------------------------------------------------------------\u001b[0m",
      "\u001b[0;31mAttributeError\u001b[0m                            Traceback (most recent call last)",
      "\u001b[0;32m<ipython-input-9-86790c31add7>\u001b[0m in \u001b[0;36m<module>\u001b[0;34m()\u001b[0m\n\u001b[0;32m----> 1\u001b[0;31m \u001b[0mindexModel\u001b[0m\u001b[0;34m=\u001b[0m\u001b[0mdf\u001b[0m\u001b[0;34m[\u001b[0m\u001b[0;34m(\u001b[0m\u001b[0mdf\u001b[0m\u001b[0;34m[\u001b[0m\u001b[0;34m'localite'\u001b[0m\u001b[0;34m]\u001b[0m\u001b[0;34m.\u001b[0m\u001b[0mstr\u001b[0m\u001b[0;34m.\u001b[0m\u001b[0mcontains\u001b[0m\u001b[0;34m(\u001b[0m\u001b[0;34m'El Menzah 6'\u001b[0m\u001b[0;34m)\u001b[0m\u001b[0;34m)\u001b[0m\u001b[0;34m|\u001b[0m\u001b[0;34m(\u001b[0m\u001b[0mdf\u001b[0m\u001b[0;34m[\u001b[0m\u001b[0;34m'adresse'\u001b[0m\u001b[0;34m]\u001b[0m\u001b[0;34m.\u001b[0m\u001b[0mstr\u001b[0m\u001b[0;34m.\u001b[0m\u001b[0mcontains\u001b[0m\u001b[0;34m(\u001b[0m\u001b[0;34m'el manzah 6'\u001b[0m\u001b[0;34m)\u001b[0m\u001b[0;34m)\u001b[0m\u001b[0;34m|\u001b[0m \u001b[0;34m(\u001b[0m\u001b[0mdf\u001b[0m\u001b[0;34m[\u001b[0m\u001b[0;34m'adresse'\u001b[0m\u001b[0;34m]\u001b[0m\u001b[0;34m.\u001b[0m\u001b[0mstr\u001b[0m\u001b[0;34m.\u001b[0m\u001b[0mcontains\u001b[0m\u001b[0;34m(\u001b[0m\u001b[0;34m'menzah 6'\u001b[0m\u001b[0;34m)\u001b[0m\u001b[0;34m)\u001b[0m\u001b[0;34m]\u001b[0m\u001b[0;34m.\u001b[0m\u001b[0mindex\u001b[0m\u001b[0;34m\u001b[0m\u001b[0;34m\u001b[0m\u001b[0m\n\u001b[0m\u001b[1;32m      2\u001b[0m \u001b[0mdf\u001b[0m\u001b[0;34m.\u001b[0m\u001b[0mloc\u001b[0m\u001b[0;34m[\u001b[0m\u001b[0mindexModel\u001b[0m\u001b[0;34m,\u001b[0m\u001b[0;34m[\u001b[0m\u001b[0;34m'codeP'\u001b[0m\u001b[0;34m]\u001b[0m\u001b[0;34m]\u001b[0m \u001b[0;34m=\u001b[0m \u001b[0;34m'2091'\u001b[0m\u001b[0;34m\u001b[0m\u001b[0;34m\u001b[0m\u001b[0m\n\u001b[1;32m      3\u001b[0m \u001b[0mindexModel\u001b[0m\u001b[0;34m=\u001b[0m\u001b[0mdf\u001b[0m\u001b[0;34m[\u001b[0m\u001b[0;34m(\u001b[0m\u001b[0mdf\u001b[0m\u001b[0;34m[\u001b[0m\u001b[0;34m'localite'\u001b[0m\u001b[0;34m]\u001b[0m\u001b[0;34m.\u001b[0m\u001b[0mstr\u001b[0m\u001b[0;34m.\u001b[0m\u001b[0mcontains\u001b[0m\u001b[0;34m(\u001b[0m\u001b[0;34m'El Menzah 5'\u001b[0m\u001b[0;34m)\u001b[0m\u001b[0;34m)\u001b[0m\u001b[0;34m|\u001b[0m\u001b[0;34m(\u001b[0m\u001b[0mdf\u001b[0m\u001b[0;34m[\u001b[0m\u001b[0;34m'adresse'\u001b[0m\u001b[0;34m]\u001b[0m\u001b[0;34m.\u001b[0m\u001b[0mstr\u001b[0m\u001b[0;34m.\u001b[0m\u001b[0mcontains\u001b[0m\u001b[0;34m(\u001b[0m\u001b[0;34m'el manzah 5'\u001b[0m\u001b[0;34m)\u001b[0m\u001b[0;34m)\u001b[0m\u001b[0;34m|\u001b[0m \u001b[0;34m(\u001b[0m\u001b[0mdf\u001b[0m\u001b[0;34m[\u001b[0m\u001b[0;34m'adresse'\u001b[0m\u001b[0;34m]\u001b[0m\u001b[0;34m.\u001b[0m\u001b[0mstr\u001b[0m\u001b[0;34m.\u001b[0m\u001b[0mcontains\u001b[0m\u001b[0;34m(\u001b[0m\u001b[0;34m'menzah 5'\u001b[0m\u001b[0;34m)\u001b[0m\u001b[0;34m)\u001b[0m\u001b[0;34m]\u001b[0m\u001b[0;34m.\u001b[0m\u001b[0mindex\u001b[0m\u001b[0;34m\u001b[0m\u001b[0;34m\u001b[0m\u001b[0m\n\u001b[1;32m      4\u001b[0m \u001b[0mdf\u001b[0m\u001b[0;34m.\u001b[0m\u001b[0mloc\u001b[0m\u001b[0;34m[\u001b[0m\u001b[0mindexModel\u001b[0m\u001b[0;34m,\u001b[0m\u001b[0;34m[\u001b[0m\u001b[0;34m'codeP'\u001b[0m\u001b[0;34m]\u001b[0m\u001b[0;34m]\u001b[0m \u001b[0;34m=\u001b[0m \u001b[0;34m'2091'\u001b[0m\u001b[0;34m\u001b[0m\u001b[0;34m\u001b[0m\u001b[0m\n\u001b[1;32m      5\u001b[0m \u001b[0;34m\u001b[0m\u001b[0m\n",
      "\u001b[0;32m/usr/local/lib/python3.7/dist-packages/pandas/core/generic.py\u001b[0m in \u001b[0;36m__getattr__\u001b[0;34m(self, name)\u001b[0m\n\u001b[1;32m   5485\u001b[0m         ):\n\u001b[1;32m   5486\u001b[0m             \u001b[0;32mreturn\u001b[0m \u001b[0mself\u001b[0m\u001b[0;34m[\u001b[0m\u001b[0mname\u001b[0m\u001b[0;34m]\u001b[0m\u001b[0;34m\u001b[0m\u001b[0;34m\u001b[0m\u001b[0m\n\u001b[0;32m-> 5487\u001b[0;31m         \u001b[0;32mreturn\u001b[0m \u001b[0mobject\u001b[0m\u001b[0;34m.\u001b[0m\u001b[0m__getattribute__\u001b[0m\u001b[0;34m(\u001b[0m\u001b[0mself\u001b[0m\u001b[0;34m,\u001b[0m \u001b[0mname\u001b[0m\u001b[0;34m)\u001b[0m\u001b[0;34m\u001b[0m\u001b[0;34m\u001b[0m\u001b[0m\n\u001b[0m\u001b[1;32m   5488\u001b[0m \u001b[0;34m\u001b[0m\u001b[0m\n\u001b[1;32m   5489\u001b[0m     \u001b[0;32mdef\u001b[0m \u001b[0m__setattr__\u001b[0m\u001b[0;34m(\u001b[0m\u001b[0mself\u001b[0m\u001b[0;34m,\u001b[0m \u001b[0mname\u001b[0m\u001b[0;34m:\u001b[0m \u001b[0mstr\u001b[0m\u001b[0;34m,\u001b[0m \u001b[0mvalue\u001b[0m\u001b[0;34m)\u001b[0m \u001b[0;34m->\u001b[0m \u001b[0;32mNone\u001b[0m\u001b[0;34m:\u001b[0m\u001b[0;34m\u001b[0m\u001b[0;34m\u001b[0m\u001b[0m\n",
      "\u001b[0;32m/usr/local/lib/python3.7/dist-packages/pandas/core/accessor.py\u001b[0m in \u001b[0;36m__get__\u001b[0;34m(self, obj, cls)\u001b[0m\n\u001b[1;32m    179\u001b[0m             \u001b[0;31m# we're accessing the attribute of the class, i.e., Dataset.geo\u001b[0m\u001b[0;34m\u001b[0m\u001b[0;34m\u001b[0m\u001b[0;34m\u001b[0m\u001b[0m\n\u001b[1;32m    180\u001b[0m             \u001b[0;32mreturn\u001b[0m \u001b[0mself\u001b[0m\u001b[0;34m.\u001b[0m\u001b[0m_accessor\u001b[0m\u001b[0;34m\u001b[0m\u001b[0;34m\u001b[0m\u001b[0m\n\u001b[0;32m--> 181\u001b[0;31m         \u001b[0maccessor_obj\u001b[0m \u001b[0;34m=\u001b[0m \u001b[0mself\u001b[0m\u001b[0;34m.\u001b[0m\u001b[0m_accessor\u001b[0m\u001b[0;34m(\u001b[0m\u001b[0mobj\u001b[0m\u001b[0;34m)\u001b[0m\u001b[0;34m\u001b[0m\u001b[0;34m\u001b[0m\u001b[0m\n\u001b[0m\u001b[1;32m    182\u001b[0m         \u001b[0;31m# Replace the property with the accessor object. Inspired by:\u001b[0m\u001b[0;34m\u001b[0m\u001b[0;34m\u001b[0m\u001b[0;34m\u001b[0m\u001b[0m\n\u001b[1;32m    183\u001b[0m         \u001b[0;31m# https://www.pydanny.com/cached-property.html\u001b[0m\u001b[0;34m\u001b[0m\u001b[0;34m\u001b[0m\u001b[0;34m\u001b[0m\u001b[0m\n",
      "\u001b[0;32m/usr/local/lib/python3.7/dist-packages/pandas/core/strings/accessor.py\u001b[0m in \u001b[0;36m__init__\u001b[0;34m(self, data)\u001b[0m\n\u001b[1;32m    166\u001b[0m         \u001b[0;32mfrom\u001b[0m \u001b[0mpandas\u001b[0m\u001b[0;34m.\u001b[0m\u001b[0mcore\u001b[0m\u001b[0;34m.\u001b[0m\u001b[0marrays\u001b[0m\u001b[0;34m.\u001b[0m\u001b[0mstring_\u001b[0m \u001b[0;32mimport\u001b[0m \u001b[0mStringDtype\u001b[0m\u001b[0;34m\u001b[0m\u001b[0;34m\u001b[0m\u001b[0m\n\u001b[1;32m    167\u001b[0m \u001b[0;34m\u001b[0m\u001b[0m\n\u001b[0;32m--> 168\u001b[0;31m         \u001b[0mself\u001b[0m\u001b[0;34m.\u001b[0m\u001b[0m_inferred_dtype\u001b[0m \u001b[0;34m=\u001b[0m \u001b[0mself\u001b[0m\u001b[0;34m.\u001b[0m\u001b[0m_validate\u001b[0m\u001b[0;34m(\u001b[0m\u001b[0mdata\u001b[0m\u001b[0;34m)\u001b[0m\u001b[0;34m\u001b[0m\u001b[0;34m\u001b[0m\u001b[0m\n\u001b[0m\u001b[1;32m    169\u001b[0m         \u001b[0mself\u001b[0m\u001b[0;34m.\u001b[0m\u001b[0m_is_categorical\u001b[0m \u001b[0;34m=\u001b[0m \u001b[0mis_categorical_dtype\u001b[0m\u001b[0;34m(\u001b[0m\u001b[0mdata\u001b[0m\u001b[0;34m.\u001b[0m\u001b[0mdtype\u001b[0m\u001b[0;34m)\u001b[0m\u001b[0;34m\u001b[0m\u001b[0;34m\u001b[0m\u001b[0m\n\u001b[1;32m    170\u001b[0m         \u001b[0mself\u001b[0m\u001b[0;34m.\u001b[0m\u001b[0m_is_string\u001b[0m \u001b[0;34m=\u001b[0m \u001b[0misinstance\u001b[0m\u001b[0;34m(\u001b[0m\u001b[0mdata\u001b[0m\u001b[0;34m.\u001b[0m\u001b[0mdtype\u001b[0m\u001b[0;34m,\u001b[0m \u001b[0mStringDtype\u001b[0m\u001b[0;34m)\u001b[0m\u001b[0;34m\u001b[0m\u001b[0;34m\u001b[0m\u001b[0m\n",
      "\u001b[0;32m/usr/local/lib/python3.7/dist-packages/pandas/core/strings/accessor.py\u001b[0m in \u001b[0;36m_validate\u001b[0;34m(data)\u001b[0m\n\u001b[1;32m    223\u001b[0m \u001b[0;34m\u001b[0m\u001b[0m\n\u001b[1;32m    224\u001b[0m         \u001b[0;32mif\u001b[0m \u001b[0minferred_dtype\u001b[0m \u001b[0;32mnot\u001b[0m \u001b[0;32min\u001b[0m \u001b[0mallowed_types\u001b[0m\u001b[0;34m:\u001b[0m\u001b[0;34m\u001b[0m\u001b[0;34m\u001b[0m\u001b[0m\n\u001b[0;32m--> 225\u001b[0;31m             \u001b[0;32mraise\u001b[0m \u001b[0mAttributeError\u001b[0m\u001b[0;34m(\u001b[0m\u001b[0;34m\"Can only use .str accessor with string values!\"\u001b[0m\u001b[0;34m)\u001b[0m\u001b[0;34m\u001b[0m\u001b[0;34m\u001b[0m\u001b[0m\n\u001b[0m\u001b[1;32m    226\u001b[0m         \u001b[0;32mreturn\u001b[0m \u001b[0minferred_dtype\u001b[0m\u001b[0;34m\u001b[0m\u001b[0;34m\u001b[0m\u001b[0m\n\u001b[1;32m    227\u001b[0m \u001b[0;34m\u001b[0m\u001b[0m\n",
      "\u001b[0;31mAttributeError\u001b[0m: Can only use .str accessor with string values!"
     ]
    }
   ],
   "source": [
    "indexModel=df[(df['localite'].str.contains('El Menzah 6'))|(df['adresse'].str.contains('el manzah 6'))| (df['adresse'].str.contains('menzah 6'))].index\n",
    "df.loc[indexModel,['codeP']] = '2091'\n",
    "indexModel=df[(df['localite'].str.contains('El Menzah 5'))|(df['adresse'].str.contains('el manzah 5'))| (df['adresse'].str.contains('menzah 5'))].index\n",
    "df.loc[indexModel,['codeP']] = '2091'\n",
    "\n",
    "indexModel=df[(df['localite'].str.contains('El Menzah 7'))|(df['adresse'].str.contains('el manzah 7'))| (df['adresse'].str.contains('menzah 7'))].index\n",
    "df.loc[indexModel,['codeP']] = '2037'\n",
    "indexModel=df[(df['localite'].str.contains('El Menzah 8'))|(df['adresse'].str.contains('el manzah 8'))| (df['adresse'].str.contains('menzah 8'))].index\n",
    "df.loc[indexModel,['codeP']] = '2037'\n",
    "#indexModel=df[(df['localite'].str.contains('El Menzah 8'))].index\n",
    "#df.loc[indexModel,['adresse']] = 'el manzah 8'\n",
    "\n",
    "indexModel=df[(df['localite'].str.contains('Cite Ennasr 2'))|(df['adresse'].str.contains('ennasr 2'))].index\n",
    "df.loc[indexModel,['codeP']] = '2037'\n",
    "\n",
    "indexModel=df[(df['localite'].str.contains('La Soukra'))|(df['adresse'].str.contains('la soukra'))|(df['adresse'].str.contains('soukra'))].index\n",
    "df.loc[indexModel,['codeP']] = '2036'\n",
    "\n",
    "\n",
    "\n",
    "#indexModel=df[(df['localite'].str.contains('BOU HNECH'))|(df['localite'].str.contains('CITE CHAKER'))|(df['localite'].str.contains('CITE DE LA MOSQUE'))|(df['localite'].str.contains('CITE EL MOUNTAZEH'))|(df['localite'].str.contains('Cite Ennour Jaafar'))|(df['localite'].str.contains('CITE ESSAADA'))|(df['localite'].str.contains('CITE SIDI SLIMENE'))|(df['localite'].str.contains('CITE SNIT'))|(df['localite'].str.contains('DOUAR EL HENDI'))|(df['localite'].str.contains('EL HESSIENE'))|(df['localite'].str.contains('OUED EL KHAYAT'))|(df['localite'].str.contains('OUED EL MAKHZEN'))|(df['localite'].str.contains('RESIDENCE EL AYECH'))|(df['localite'].str.contains('RESIDENCE EL OUNS'))|(df['localite'].str.contains('RESIDENCE ENNARJES'))].index\n",
    "#df.loc[indexModel,['codeP']] = '2081'\n"
   ]
  },
  {
   "cell_type": "code",
   "execution_count": null,
   "metadata": {
    "colab": {
     "base_uri": "https://localhost:8080/"
    },
    "id": "fFAL8BLNMZ6N",
    "outputId": "4462b49f-257f-40f7-d425-83ed9c3bd52f"
   },
   "outputs": [
    {
     "data": {
      "text/plain": [
       "Index(['price', 'superficie_habitable', 'superficie_terrain', 'codeP',\n",
       "       'gouvernorat', 'delegation', 'localite', 'adresse', 'anneeConst',\n",
       "       'nbpiece', 'typeImm', 'fonds', 'plein_air', 'salle_de_bain',\n",
       "       'constructible', 'service', 'chauffage', 'climatisation', 'cuisine',\n",
       "       'installations_sportives', 'description'],\n",
       "      dtype='object')"
      ]
     },
     "execution_count": 10,
     "metadata": {},
     "output_type": "execute_result"
    }
   ],
   "source": [
    "df.columns"
   ]
  },
  {
   "cell_type": "code",
   "execution_count": null,
   "metadata": {
    "colab": {
     "base_uri": "https://localhost:8080/"
    },
    "id": "O3n7Cmi_-NPL",
    "outputId": "a6b2c512-e35f-4b85-9d1c-98feb69b5d9e"
   },
   "outputs": [
    {
     "data": {
      "text/plain": [
       "price                          0\n",
       "superficie_habitable           0\n",
       "superficie_terrain             0\n",
       "codeP                      10414\n",
       "gouvernorat                    0\n",
       "delegation                  3477\n",
       "localite                    8704\n",
       "adresse                      894\n",
       "anneeConst                 12574\n",
       "nbpiece                        0\n",
       "typeImm                        0\n",
       "fonds                      12054\n",
       "plein_air                  12654\n",
       "salle_de_bain               8622\n",
       "constructible              12529\n",
       "service                    12654\n",
       "chauffage                  12654\n",
       "climatisation              12654\n",
       "cuisine                    12654\n",
       "installations_sportives    12654\n",
       "description                 7763\n",
       "dtype: int64"
      ]
     },
     "execution_count": 9,
     "metadata": {},
     "output_type": "execute_result"
    }
   ],
   "source": [
    "df.isnull().sum()"
   ]
  },
  {
   "cell_type": "code",
   "execution_count": null,
   "metadata": {
    "colab": {
     "base_uri": "https://localhost:8080/"
    },
    "id": "51rHh9kIogX2",
    "outputId": "0b3017c7-943b-4e56-d467-e5a4571a99a2"
   },
   "outputs": [
    {
     "data": {
      "text/plain": [
       "price                          0\n",
       "superficie_habitable           0\n",
       "superficie_terrain             0\n",
       "codeP                      10951\n",
       "gouvernorat                    0\n",
       "delegation                     0\n",
       "localite                       0\n",
       "adresse                        0\n",
       "anneeConst                     0\n",
       "nbpiece                        0\n",
       "typeImm                        0\n",
       "fonds                          0\n",
       "plein_air                      0\n",
       "salle_de_bain                  0\n",
       "constructible                  0\n",
       "service                        0\n",
       "chauffage                      0\n",
       "climatisation                  0\n",
       "cuisine                        0\n",
       "installations_sportives        0\n",
       "description                    0\n",
       "dtype: int64"
      ]
     },
     "execution_count": 11,
     "metadata": {},
     "output_type": "execute_result"
    }
   ],
   "source": [
    "df['fonds'] = df['fonds'].replace(np.nan, 0)\n",
    "df['plein_air'] = df['plein_air'].replace(np.nan, 0)\n",
    "\n",
    "df['salle_de_bain'] = df['salle_de_bain'].replace(np.nan, 1)\n",
    "\n",
    "df['constructible'] = df['constructible'].replace(np.nan, 0)\n",
    "df['service'] = df['service'].replace(np.nan, 0)\n",
    "\n",
    "df['chauffage'] = df['chauffage'].replace(np.nan, 0)\n",
    "\n",
    "df['climatisation'] = df['climatisation'].replace(np.nan, 0)\n",
    "df['cuisine'] = df['cuisine'].replace(np.nan, 1)\n",
    "df['installations_sportives'] = df['installations_sportives'].replace(np.nan, 0)\n",
    "\n",
    "df['description'] = df['description'].replace(np.nan, 0)\n",
    "\n",
    "df.isnull().sum()\n"
   ]
  },
  {
   "cell_type": "code",
   "execution_count": null,
   "metadata": {
    "colab": {
     "base_uri": "https://localhost:8080/",
     "height": 1000
    },
    "id": "R31N9PWW_r2r",
    "outputId": "5a1b2e23-16a3-4ccc-9b0f-86b87777fb6b"
   },
   "outputs": [
    {
     "data": {
      "text/html": [
       "\n",
       "  <div id=\"df-d95085a5-6de1-4aa3-b421-4f7fb9bf9db9\">\n",
       "    <div class=\"colab-df-container\">\n",
       "      <div>\n",
       "<style scoped>\n",
       "    .dataframe tbody tr th:only-of-type {\n",
       "        vertical-align: middle;\n",
       "    }\n",
       "\n",
       "    .dataframe tbody tr th {\n",
       "        vertical-align: top;\n",
       "    }\n",
       "\n",
       "    .dataframe thead th {\n",
       "        text-align: right;\n",
       "    }\n",
       "</style>\n",
       "<table border=\"1\" class=\"dataframe\">\n",
       "  <thead>\n",
       "    <tr style=\"text-align: right;\">\n",
       "      <th></th>\n",
       "      <th>price</th>\n",
       "      <th>superficie_habitable</th>\n",
       "      <th>superficie_terrain</th>\n",
       "      <th>codeP</th>\n",
       "      <th>gouvernorat</th>\n",
       "      <th>delegation</th>\n",
       "      <th>localite</th>\n",
       "      <th>adresse</th>\n",
       "      <th>anneeConst</th>\n",
       "      <th>nbpiece</th>\n",
       "      <th>...</th>\n",
       "      <th>fonds</th>\n",
       "      <th>plein_air</th>\n",
       "      <th>salle_de_bain</th>\n",
       "      <th>constructible</th>\n",
       "      <th>service</th>\n",
       "      <th>chauffage</th>\n",
       "      <th>climatisation</th>\n",
       "      <th>cuisine</th>\n",
       "      <th>installations_sportives</th>\n",
       "      <th>description</th>\n",
       "    </tr>\n",
       "  </thead>\n",
       "  <tbody>\n",
       "    <tr>\n",
       "      <th>0</th>\n",
       "      <td>1350000.0</td>\n",
       "      <td>150.0</td>\n",
       "      <td>150.0</td>\n",
       "      <td>NaN</td>\n",
       "      <td>ZAGHOUAN</td>\n",
       "      <td>LA MARSA</td>\n",
       "      <td>Ain Zaghouan</td>\n",
       "      <td>ain zaghouan nord</td>\n",
       "      <td>NaN</td>\n",
       "      <td>0</td>\n",
       "      <td>...</td>\n",
       "      <td>0</td>\n",
       "      <td>0.0</td>\n",
       "      <td>0</td>\n",
       "      <td>0</td>\n",
       "      <td>0.0</td>\n",
       "      <td>0.0</td>\n",
       "      <td>0.0</td>\n",
       "      <td>0.0</td>\n",
       "      <td>0.0</td>\n",
       "      <td>fb.72 contacter notre conseiller en immobilier...</td>\n",
       "    </tr>\n",
       "    <tr>\n",
       "      <th>1</th>\n",
       "      <td>840000.0</td>\n",
       "      <td>150.0</td>\n",
       "      <td>150.0</td>\n",
       "      <td>NaN</td>\n",
       "      <td>ZAGHOUAN</td>\n",
       "      <td>LA MARSA</td>\n",
       "      <td>NaN</td>\n",
       "      <td>Ain Zaghouan, La Marsa, Tunis</td>\n",
       "      <td>NaN</td>\n",
       "      <td>0</td>\n",
       "      <td>...</td>\n",
       "      <td>0</td>\n",
       "      <td>0.0</td>\n",
       "      <td>0</td>\n",
       "      <td>0</td>\n",
       "      <td>0.0</td>\n",
       "      <td>0.0</td>\n",
       "      <td>0.0</td>\n",
       "      <td>0.0</td>\n",
       "      <td>0.0</td>\n",
       "      <td>0</td>\n",
       "    </tr>\n",
       "    <tr>\n",
       "      <th>2</th>\n",
       "      <td>850000.0</td>\n",
       "      <td>450.0</td>\n",
       "      <td>450.0</td>\n",
       "      <td>NaN</td>\n",
       "      <td>ZAGHOUAN</td>\n",
       "      <td>NaN</td>\n",
       "      <td>NaN</td>\n",
       "      <td>El Fahs, Zaghouan</td>\n",
       "      <td>NaN</td>\n",
       "      <td>0</td>\n",
       "      <td>...</td>\n",
       "      <td>0</td>\n",
       "      <td>0.0</td>\n",
       "      <td>3</td>\n",
       "      <td>0</td>\n",
       "      <td>0.0</td>\n",
       "      <td>0.0</td>\n",
       "      <td>0.0</td>\n",
       "      <td>0.0</td>\n",
       "      <td>0.0</td>\n",
       "      <td>0</td>\n",
       "    </tr>\n",
       "    <tr>\n",
       "      <th>3</th>\n",
       "      <td>946000.0</td>\n",
       "      <td>150.0</td>\n",
       "      <td>150.0</td>\n",
       "      <td>NaN</td>\n",
       "      <td>ZAGHOUAN</td>\n",
       "      <td>NaN</td>\n",
       "      <td>NaN</td>\n",
       "      <td>jardin de carthage, Aïn Zaghouan, Tunis</td>\n",
       "      <td>NaN</td>\n",
       "      <td>0</td>\n",
       "      <td>...</td>\n",
       "      <td>0</td>\n",
       "      <td>0.0</td>\n",
       "      <td>0</td>\n",
       "      <td>0</td>\n",
       "      <td>0.0</td>\n",
       "      <td>0.0</td>\n",
       "      <td>0.0</td>\n",
       "      <td>0.0</td>\n",
       "      <td>0.0</td>\n",
       "      <td>0</td>\n",
       "    </tr>\n",
       "    <tr>\n",
       "      <th>4</th>\n",
       "      <td>650000.0</td>\n",
       "      <td>150.0</td>\n",
       "      <td>150.0</td>\n",
       "      <td>NaN</td>\n",
       "      <td>ZAGHOUAN</td>\n",
       "      <td>NaN</td>\n",
       "      <td>NaN</td>\n",
       "      <td>Zaghouan, Zaghouan</td>\n",
       "      <td>NaN</td>\n",
       "      <td>0</td>\n",
       "      <td>...</td>\n",
       "      <td>0</td>\n",
       "      <td>0.0</td>\n",
       "      <td>0</td>\n",
       "      <td>0</td>\n",
       "      <td>0.0</td>\n",
       "      <td>0.0</td>\n",
       "      <td>0.0</td>\n",
       "      <td>0.0</td>\n",
       "      <td>0.0</td>\n",
       "      <td>0</td>\n",
       "    </tr>\n",
       "    <tr>\n",
       "      <th>...</th>\n",
       "      <td>...</td>\n",
       "      <td>...</td>\n",
       "      <td>...</td>\n",
       "      <td>...</td>\n",
       "      <td>...</td>\n",
       "      <td>...</td>\n",
       "      <td>...</td>\n",
       "      <td>...</td>\n",
       "      <td>...</td>\n",
       "      <td>...</td>\n",
       "      <td>...</td>\n",
       "      <td>...</td>\n",
       "      <td>...</td>\n",
       "      <td>...</td>\n",
       "      <td>...</td>\n",
       "      <td>...</td>\n",
       "      <td>...</td>\n",
       "      <td>...</td>\n",
       "      <td>...</td>\n",
       "      <td>...</td>\n",
       "      <td>...</td>\n",
       "    </tr>\n",
       "    <tr>\n",
       "      <th>14116</th>\n",
       "      <td>210000.0</td>\n",
       "      <td>150.0</td>\n",
       "      <td>150.0</td>\n",
       "      <td>1100.0</td>\n",
       "      <td>ZAGHOUAN</td>\n",
       "      <td>NaN</td>\n",
       "      <td>NaN</td>\n",
       "      <td>NaN</td>\n",
       "      <td>NaN</td>\n",
       "      <td>0</td>\n",
       "      <td>...</td>\n",
       "      <td>0</td>\n",
       "      <td>0.0</td>\n",
       "      <td>1</td>\n",
       "      <td>0</td>\n",
       "      <td>0.0</td>\n",
       "      <td>0.0</td>\n",
       "      <td>0.0</td>\n",
       "      <td>0.0</td>\n",
       "      <td>0.0</td>\n",
       "      <td>Appartement au 6 éme  étage d’une résidence sé...</td>\n",
       "    </tr>\n",
       "    <tr>\n",
       "      <th>14117</th>\n",
       "      <td>367000.0</td>\n",
       "      <td>150.0</td>\n",
       "      <td>150.0</td>\n",
       "      <td>2046.0</td>\n",
       "      <td>ZAGHOUAN</td>\n",
       "      <td>LA MARSA</td>\n",
       "      <td>NaN</td>\n",
       "      <td>jardin de carthage/ Ville   Tunis/ Région   ai...</td>\n",
       "      <td>NaN</td>\n",
       "      <td>4</td>\n",
       "      <td>...</td>\n",
       "      <td>1</td>\n",
       "      <td>0.0</td>\n",
       "      <td>3</td>\n",
       "      <td>0</td>\n",
       "      <td>0.0</td>\n",
       "      <td>0.0</td>\n",
       "      <td>0.0</td>\n",
       "      <td>0.0</td>\n",
       "      <td>0.0</td>\n",
       "      <td>A VENDRE Un APPARTEMENT JAMAIS HABITÉ SITUÉE A...</td>\n",
       "    </tr>\n",
       "    <tr>\n",
       "      <th>14118</th>\n",
       "      <td>189000.0</td>\n",
       "      <td>150.0</td>\n",
       "      <td>150.0</td>\n",
       "      <td>2046.0</td>\n",
       "      <td>ZAGHOUAN</td>\n",
       "      <td>LA MARSA</td>\n",
       "      <td>NaN</td>\n",
       "      <td>jardinx de carthage/ Ville   Tunis/ Région   a...</td>\n",
       "      <td>2016</td>\n",
       "      <td>2</td>\n",
       "      <td>...</td>\n",
       "      <td>0</td>\n",
       "      <td>0.0</td>\n",
       "      <td>1</td>\n",
       "      <td>0</td>\n",
       "      <td>0.0</td>\n",
       "      <td>0.0</td>\n",
       "      <td>0.0</td>\n",
       "      <td>0.0</td>\n",
       "      <td>0.0</td>\n",
       "      <td>s + 1 état neuf, salon avec balcon, une chambr...</td>\n",
       "    </tr>\n",
       "    <tr>\n",
       "      <th>14119</th>\n",
       "      <td>216450000.0</td>\n",
       "      <td>150.0</td>\n",
       "      <td>150.0</td>\n",
       "      <td>2045.0</td>\n",
       "      <td>ZAGHOUAN</td>\n",
       "      <td>LA MARSA</td>\n",
       "      <td>NaN</td>\n",
       "      <td>N° 63 Rue Khaled Ibn El Walid, Ain Zaghouan No...</td>\n",
       "      <td>NaN</td>\n",
       "      <td>0</td>\n",
       "      <td>...</td>\n",
       "      <td>0</td>\n",
       "      <td>0.0</td>\n",
       "      <td>0</td>\n",
       "      <td>0</td>\n",
       "      <td>0.0</td>\n",
       "      <td>0.0</td>\n",
       "      <td>0.0</td>\n",
       "      <td>0.0</td>\n",
       "      <td>0.0</td>\n",
       "      <td>Immobilière Camelia est une agence de promotio...</td>\n",
       "    </tr>\n",
       "    <tr>\n",
       "      <th>14120</th>\n",
       "      <td>230000.0</td>\n",
       "      <td>150.0</td>\n",
       "      <td>150.0</td>\n",
       "      <td>2045.0</td>\n",
       "      <td>ZAGHOUAN</td>\n",
       "      <td>NaN</td>\n",
       "      <td>NaN</td>\n",
       "      <td>Residence Jasmine Ain Zaghouen 2045 Tunis/ Vil...</td>\n",
       "      <td>NaN</td>\n",
       "      <td>0</td>\n",
       "      <td>...</td>\n",
       "      <td>0</td>\n",
       "      <td>0.0</td>\n",
       "      <td>0</td>\n",
       "      <td>0</td>\n",
       "      <td>0.0</td>\n",
       "      <td>0.0</td>\n",
       "      <td>0.0</td>\n",
       "      <td>0.0</td>\n",
       "      <td>0.0</td>\n",
       "      <td>A Vendre appartement bien entretenu situe au 4...</td>\n",
       "    </tr>\n",
       "  </tbody>\n",
       "</table>\n",
       "<p>12654 rows × 21 columns</p>\n",
       "</div>\n",
       "      <button class=\"colab-df-convert\" onclick=\"convertToInteractive('df-d95085a5-6de1-4aa3-b421-4f7fb9bf9db9')\"\n",
       "              title=\"Convert this dataframe to an interactive table.\"\n",
       "              style=\"display:none;\">\n",
       "        \n",
       "  <svg xmlns=\"http://www.w3.org/2000/svg\" height=\"24px\"viewBox=\"0 0 24 24\"\n",
       "       width=\"24px\">\n",
       "    <path d=\"M0 0h24v24H0V0z\" fill=\"none\"/>\n",
       "    <path d=\"M18.56 5.44l.94 2.06.94-2.06 2.06-.94-2.06-.94-.94-2.06-.94 2.06-2.06.94zm-11 1L8.5 8.5l.94-2.06 2.06-.94-2.06-.94L8.5 2.5l-.94 2.06-2.06.94zm10 10l.94 2.06.94-2.06 2.06-.94-2.06-.94-.94-2.06-.94 2.06-2.06.94z\"/><path d=\"M17.41 7.96l-1.37-1.37c-.4-.4-.92-.59-1.43-.59-.52 0-1.04.2-1.43.59L10.3 9.45l-7.72 7.72c-.78.78-.78 2.05 0 2.83L4 21.41c.39.39.9.59 1.41.59.51 0 1.02-.2 1.41-.59l7.78-7.78 2.81-2.81c.8-.78.8-2.07 0-2.86zM5.41 20L4 18.59l7.72-7.72 1.47 1.35L5.41 20z\"/>\n",
       "  </svg>\n",
       "      </button>\n",
       "      \n",
       "  <style>\n",
       "    .colab-df-container {\n",
       "      display:flex;\n",
       "      flex-wrap:wrap;\n",
       "      gap: 12px;\n",
       "    }\n",
       "\n",
       "    .colab-df-convert {\n",
       "      background-color: #E8F0FE;\n",
       "      border: none;\n",
       "      border-radius: 50%;\n",
       "      cursor: pointer;\n",
       "      display: none;\n",
       "      fill: #1967D2;\n",
       "      height: 32px;\n",
       "      padding: 0 0 0 0;\n",
       "      width: 32px;\n",
       "    }\n",
       "\n",
       "    .colab-df-convert:hover {\n",
       "      background-color: #E2EBFA;\n",
       "      box-shadow: 0px 1px 2px rgba(60, 64, 67, 0.3), 0px 1px 3px 1px rgba(60, 64, 67, 0.15);\n",
       "      fill: #174EA6;\n",
       "    }\n",
       "\n",
       "    [theme=dark] .colab-df-convert {\n",
       "      background-color: #3B4455;\n",
       "      fill: #D2E3FC;\n",
       "    }\n",
       "\n",
       "    [theme=dark] .colab-df-convert:hover {\n",
       "      background-color: #434B5C;\n",
       "      box-shadow: 0px 1px 3px 1px rgba(0, 0, 0, 0.15);\n",
       "      filter: drop-shadow(0px 1px 2px rgba(0, 0, 0, 0.3));\n",
       "      fill: #FFFFFF;\n",
       "    }\n",
       "  </style>\n",
       "\n",
       "      <script>\n",
       "        const buttonEl =\n",
       "          document.querySelector('#df-d95085a5-6de1-4aa3-b421-4f7fb9bf9db9 button.colab-df-convert');\n",
       "        buttonEl.style.display =\n",
       "          google.colab.kernel.accessAllowed ? 'block' : 'none';\n",
       "\n",
       "        async function convertToInteractive(key) {\n",
       "          const element = document.querySelector('#df-d95085a5-6de1-4aa3-b421-4f7fb9bf9db9');\n",
       "          const dataTable =\n",
       "            await google.colab.kernel.invokeFunction('convertToInteractive',\n",
       "                                                     [key], {});\n",
       "          if (!dataTable) return;\n",
       "\n",
       "          const docLinkHtml = 'Like what you see? Visit the ' +\n",
       "            '<a target=\"_blank\" href=https://colab.research.google.com/notebooks/data_table.ipynb>data table notebook</a>'\n",
       "            + ' to learn more about interactive tables.';\n",
       "          element.innerHTML = '';\n",
       "          dataTable['output_type'] = 'display_data';\n",
       "          await google.colab.output.renderOutput(dataTable, element);\n",
       "          const docLink = document.createElement('div');\n",
       "          docLink.innerHTML = docLinkHtml;\n",
       "          element.appendChild(docLink);\n",
       "        }\n",
       "      </script>\n",
       "    </div>\n",
       "  </div>\n",
       "  "
      ],
      "text/plain": [
       "             price  superficie_habitable  superficie_terrain   codeP  \\\n",
       "0        1350000.0                 150.0               150.0     NaN   \n",
       "1         840000.0                 150.0               150.0     NaN   \n",
       "2         850000.0                 450.0               450.0     NaN   \n",
       "3         946000.0                 150.0               150.0     NaN   \n",
       "4         650000.0                 150.0               150.0     NaN   \n",
       "...            ...                   ...                 ...     ...   \n",
       "14116     210000.0                 150.0               150.0  1100.0   \n",
       "14117     367000.0                 150.0               150.0  2046.0   \n",
       "14118     189000.0                 150.0               150.0  2046.0   \n",
       "14119  216450000.0                 150.0               150.0  2045.0   \n",
       "14120     230000.0                 150.0               150.0  2045.0   \n",
       "\n",
       "      gouvernorat delegation      localite  \\\n",
       "0        ZAGHOUAN   LA MARSA  Ain Zaghouan   \n",
       "1        ZAGHOUAN   LA MARSA           NaN   \n",
       "2        ZAGHOUAN        NaN           NaN   \n",
       "3        ZAGHOUAN        NaN           NaN   \n",
       "4        ZAGHOUAN        NaN           NaN   \n",
       "...           ...        ...           ...   \n",
       "14116    ZAGHOUAN        NaN           NaN   \n",
       "14117    ZAGHOUAN   LA MARSA           NaN   \n",
       "14118    ZAGHOUAN   LA MARSA           NaN   \n",
       "14119    ZAGHOUAN   LA MARSA           NaN   \n",
       "14120    ZAGHOUAN        NaN           NaN   \n",
       "\n",
       "                                                 adresse anneeConst  nbpiece  \\\n",
       "0                                      ain zaghouan nord        NaN        0   \n",
       "1                          Ain Zaghouan, La Marsa, Tunis        NaN        0   \n",
       "2                                      El Fahs, Zaghouan        NaN        0   \n",
       "3                jardin de carthage, Aïn Zaghouan, Tunis        NaN        0   \n",
       "4                                     Zaghouan, Zaghouan        NaN        0   \n",
       "...                                                  ...        ...      ...   \n",
       "14116                                                NaN        NaN        0   \n",
       "14117  jardin de carthage/ Ville   Tunis/ Région   ai...        NaN        4   \n",
       "14118  jardinx de carthage/ Ville   Tunis/ Région   a...       2016        2   \n",
       "14119  N° 63 Rue Khaled Ibn El Walid, Ain Zaghouan No...        NaN        0   \n",
       "14120  Residence Jasmine Ain Zaghouen 2045 Tunis/ Vil...        NaN        0   \n",
       "\n",
       "       ... fonds plein_air  salle_de_bain constructible service  chauffage  \\\n",
       "0      ...     0       0.0              0             0     0.0        0.0   \n",
       "1      ...     0       0.0              0             0     0.0        0.0   \n",
       "2      ...     0       0.0              3             0     0.0        0.0   \n",
       "3      ...     0       0.0              0             0     0.0        0.0   \n",
       "4      ...     0       0.0              0             0     0.0        0.0   \n",
       "...    ...   ...       ...            ...           ...     ...        ...   \n",
       "14116  ...     0       0.0              1             0     0.0        0.0   \n",
       "14117  ...     1       0.0              3             0     0.0        0.0   \n",
       "14118  ...     0       0.0              1             0     0.0        0.0   \n",
       "14119  ...     0       0.0              0             0     0.0        0.0   \n",
       "14120  ...     0       0.0              0             0     0.0        0.0   \n",
       "\n",
       "       climatisation  cuisine  installations_sportives  \\\n",
       "0                0.0      0.0                      0.0   \n",
       "1                0.0      0.0                      0.0   \n",
       "2                0.0      0.0                      0.0   \n",
       "3                0.0      0.0                      0.0   \n",
       "4                0.0      0.0                      0.0   \n",
       "...              ...      ...                      ...   \n",
       "14116            0.0      0.0                      0.0   \n",
       "14117            0.0      0.0                      0.0   \n",
       "14118            0.0      0.0                      0.0   \n",
       "14119            0.0      0.0                      0.0   \n",
       "14120            0.0      0.0                      0.0   \n",
       "\n",
       "                                             description  \n",
       "0      fb.72 contacter notre conseiller en immobilier...  \n",
       "1                                                      0  \n",
       "2                                                      0  \n",
       "3                                                      0  \n",
       "4                                                      0  \n",
       "...                                                  ...  \n",
       "14116  Appartement au 6 éme  étage d’une résidence sé...  \n",
       "14117  A VENDRE Un APPARTEMENT JAMAIS HABITÉ SITUÉE A...  \n",
       "14118  s + 1 état neuf, salon avec balcon, une chambr...  \n",
       "14119  Immobilière Camelia est une agence de promotio...  \n",
       "14120  A Vendre appartement bien entretenu situe au 4...  \n",
       "\n",
       "[12654 rows x 21 columns]"
      ]
     },
     "execution_count": 16,
     "metadata": {},
     "output_type": "execute_result"
    }
   ],
   "source": [
    "df.to_csv(\"new.csv\",sep=\",\")\n",
    "df"
   ]
  },
  {
   "cell_type": "code",
   "execution_count": null,
   "metadata": {
    "colab": {
     "base_uri": "https://localhost:8080/",
     "height": 525
    },
    "id": "bIdgcsG1Cylc",
    "outputId": "fe8f72c9-7d3c-4333-ec3a-44b2d050c7b6"
   },
   "outputs": [
    {
     "data": {
      "text/html": [
       "\n",
       "  <div id=\"df-8fb1cd01-f03b-4d23-b18a-c01ff6e517f2\">\n",
       "    <div class=\"colab-df-container\">\n",
       "      <div>\n",
       "<style scoped>\n",
       "    .dataframe tbody tr th:only-of-type {\n",
       "        vertical-align: middle;\n",
       "    }\n",
       "\n",
       "    .dataframe tbody tr th {\n",
       "        vertical-align: top;\n",
       "    }\n",
       "\n",
       "    .dataframe thead th {\n",
       "        text-align: right;\n",
       "    }\n",
       "</style>\n",
       "<table border=\"1\" class=\"dataframe\">\n",
       "  <thead>\n",
       "    <tr style=\"text-align: right;\">\n",
       "      <th></th>\n",
       "      <th>price</th>\n",
       "      <th>superficie_habitable</th>\n",
       "      <th>superficie_terrain</th>\n",
       "      <th>codeP</th>\n",
       "      <th>gouvernorat</th>\n",
       "      <th>delegation</th>\n",
       "      <th>localite</th>\n",
       "      <th>adresse</th>\n",
       "      <th>anneeConst</th>\n",
       "      <th>nbpiece</th>\n",
       "      <th>...</th>\n",
       "      <th>fonds</th>\n",
       "      <th>plein_air</th>\n",
       "      <th>salle_de_bain</th>\n",
       "      <th>constructible</th>\n",
       "      <th>service</th>\n",
       "      <th>chauffage</th>\n",
       "      <th>climatisation</th>\n",
       "      <th>cuisine</th>\n",
       "      <th>installations_sportives</th>\n",
       "      <th>description</th>\n",
       "    </tr>\n",
       "  </thead>\n",
       "  <tbody>\n",
       "    <tr>\n",
       "      <th>0</th>\n",
       "      <td>1350000.0</td>\n",
       "      <td>150.0</td>\n",
       "      <td>150.0</td>\n",
       "      <td>NaN</td>\n",
       "      <td>ZAGHOUAN</td>\n",
       "      <td>LA MARSA</td>\n",
       "      <td>Ain Zaghouan</td>\n",
       "      <td>ain zaghouan nord</td>\n",
       "      <td>NaN</td>\n",
       "      <td>0</td>\n",
       "      <td>...</td>\n",
       "      <td>0</td>\n",
       "      <td>0.0</td>\n",
       "      <td>0</td>\n",
       "      <td>0</td>\n",
       "      <td>0.0</td>\n",
       "      <td>0.0</td>\n",
       "      <td>0.0</td>\n",
       "      <td>0.0</td>\n",
       "      <td>0.0</td>\n",
       "      <td>fb.72 contacter notre conseiller en immobilier...</td>\n",
       "    </tr>\n",
       "    <tr>\n",
       "      <th>1</th>\n",
       "      <td>840000.0</td>\n",
       "      <td>150.0</td>\n",
       "      <td>150.0</td>\n",
       "      <td>NaN</td>\n",
       "      <td>ZAGHOUAN</td>\n",
       "      <td>LA MARSA</td>\n",
       "      <td>NaN</td>\n",
       "      <td>Ain Zaghouan, La Marsa, Tunis</td>\n",
       "      <td>NaN</td>\n",
       "      <td>0</td>\n",
       "      <td>...</td>\n",
       "      <td>0</td>\n",
       "      <td>0.0</td>\n",
       "      <td>0</td>\n",
       "      <td>0</td>\n",
       "      <td>0.0</td>\n",
       "      <td>0.0</td>\n",
       "      <td>0.0</td>\n",
       "      <td>0.0</td>\n",
       "      <td>0.0</td>\n",
       "      <td>0</td>\n",
       "    </tr>\n",
       "    <tr>\n",
       "      <th>2</th>\n",
       "      <td>850000.0</td>\n",
       "      <td>450.0</td>\n",
       "      <td>450.0</td>\n",
       "      <td>NaN</td>\n",
       "      <td>ZAGHOUAN</td>\n",
       "      <td>NaN</td>\n",
       "      <td>NaN</td>\n",
       "      <td>El Fahs, Zaghouan</td>\n",
       "      <td>NaN</td>\n",
       "      <td>0</td>\n",
       "      <td>...</td>\n",
       "      <td>0</td>\n",
       "      <td>0.0</td>\n",
       "      <td>3</td>\n",
       "      <td>0</td>\n",
       "      <td>0.0</td>\n",
       "      <td>0.0</td>\n",
       "      <td>0.0</td>\n",
       "      <td>0.0</td>\n",
       "      <td>0.0</td>\n",
       "      <td>0</td>\n",
       "    </tr>\n",
       "    <tr>\n",
       "      <th>3</th>\n",
       "      <td>946000.0</td>\n",
       "      <td>150.0</td>\n",
       "      <td>150.0</td>\n",
       "      <td>NaN</td>\n",
       "      <td>ZAGHOUAN</td>\n",
       "      <td>NaN</td>\n",
       "      <td>NaN</td>\n",
       "      <td>jardin de carthage, Aïn Zaghouan, Tunis</td>\n",
       "      <td>NaN</td>\n",
       "      <td>0</td>\n",
       "      <td>...</td>\n",
       "      <td>0</td>\n",
       "      <td>0.0</td>\n",
       "      <td>0</td>\n",
       "      <td>0</td>\n",
       "      <td>0.0</td>\n",
       "      <td>0.0</td>\n",
       "      <td>0.0</td>\n",
       "      <td>0.0</td>\n",
       "      <td>0.0</td>\n",
       "      <td>0</td>\n",
       "    </tr>\n",
       "    <tr>\n",
       "      <th>4</th>\n",
       "      <td>650000.0</td>\n",
       "      <td>150.0</td>\n",
       "      <td>150.0</td>\n",
       "      <td>NaN</td>\n",
       "      <td>ZAGHOUAN</td>\n",
       "      <td>NaN</td>\n",
       "      <td>NaN</td>\n",
       "      <td>Zaghouan, Zaghouan</td>\n",
       "      <td>NaN</td>\n",
       "      <td>0</td>\n",
       "      <td>...</td>\n",
       "      <td>0</td>\n",
       "      <td>0.0</td>\n",
       "      <td>0</td>\n",
       "      <td>0</td>\n",
       "      <td>0.0</td>\n",
       "      <td>0.0</td>\n",
       "      <td>0.0</td>\n",
       "      <td>0.0</td>\n",
       "      <td>0.0</td>\n",
       "      <td>0</td>\n",
       "    </tr>\n",
       "  </tbody>\n",
       "</table>\n",
       "<p>5 rows × 21 columns</p>\n",
       "</div>\n",
       "      <button class=\"colab-df-convert\" onclick=\"convertToInteractive('df-8fb1cd01-f03b-4d23-b18a-c01ff6e517f2')\"\n",
       "              title=\"Convert this dataframe to an interactive table.\"\n",
       "              style=\"display:none;\">\n",
       "        \n",
       "  <svg xmlns=\"http://www.w3.org/2000/svg\" height=\"24px\"viewBox=\"0 0 24 24\"\n",
       "       width=\"24px\">\n",
       "    <path d=\"M0 0h24v24H0V0z\" fill=\"none\"/>\n",
       "    <path d=\"M18.56 5.44l.94 2.06.94-2.06 2.06-.94-2.06-.94-.94-2.06-.94 2.06-2.06.94zm-11 1L8.5 8.5l.94-2.06 2.06-.94-2.06-.94L8.5 2.5l-.94 2.06-2.06.94zm10 10l.94 2.06.94-2.06 2.06-.94-2.06-.94-.94-2.06-.94 2.06-2.06.94z\"/><path d=\"M17.41 7.96l-1.37-1.37c-.4-.4-.92-.59-1.43-.59-.52 0-1.04.2-1.43.59L10.3 9.45l-7.72 7.72c-.78.78-.78 2.05 0 2.83L4 21.41c.39.39.9.59 1.41.59.51 0 1.02-.2 1.41-.59l7.78-7.78 2.81-2.81c.8-.78.8-2.07 0-2.86zM5.41 20L4 18.59l7.72-7.72 1.47 1.35L5.41 20z\"/>\n",
       "  </svg>\n",
       "      </button>\n",
       "      \n",
       "  <style>\n",
       "    .colab-df-container {\n",
       "      display:flex;\n",
       "      flex-wrap:wrap;\n",
       "      gap: 12px;\n",
       "    }\n",
       "\n",
       "    .colab-df-convert {\n",
       "      background-color: #E8F0FE;\n",
       "      border: none;\n",
       "      border-radius: 50%;\n",
       "      cursor: pointer;\n",
       "      display: none;\n",
       "      fill: #1967D2;\n",
       "      height: 32px;\n",
       "      padding: 0 0 0 0;\n",
       "      width: 32px;\n",
       "    }\n",
       "\n",
       "    .colab-df-convert:hover {\n",
       "      background-color: #E2EBFA;\n",
       "      box-shadow: 0px 1px 2px rgba(60, 64, 67, 0.3), 0px 1px 3px 1px rgba(60, 64, 67, 0.15);\n",
       "      fill: #174EA6;\n",
       "    }\n",
       "\n",
       "    [theme=dark] .colab-df-convert {\n",
       "      background-color: #3B4455;\n",
       "      fill: #D2E3FC;\n",
       "    }\n",
       "\n",
       "    [theme=dark] .colab-df-convert:hover {\n",
       "      background-color: #434B5C;\n",
       "      box-shadow: 0px 1px 3px 1px rgba(0, 0, 0, 0.15);\n",
       "      filter: drop-shadow(0px 1px 2px rgba(0, 0, 0, 0.3));\n",
       "      fill: #FFFFFF;\n",
       "    }\n",
       "  </style>\n",
       "\n",
       "      <script>\n",
       "        const buttonEl =\n",
       "          document.querySelector('#df-8fb1cd01-f03b-4d23-b18a-c01ff6e517f2 button.colab-df-convert');\n",
       "        buttonEl.style.display =\n",
       "          google.colab.kernel.accessAllowed ? 'block' : 'none';\n",
       "\n",
       "        async function convertToInteractive(key) {\n",
       "          const element = document.querySelector('#df-8fb1cd01-f03b-4d23-b18a-c01ff6e517f2');\n",
       "          const dataTable =\n",
       "            await google.colab.kernel.invokeFunction('convertToInteractive',\n",
       "                                                     [key], {});\n",
       "          if (!dataTable) return;\n",
       "\n",
       "          const docLinkHtml = 'Like what you see? Visit the ' +\n",
       "            '<a target=\"_blank\" href=https://colab.research.google.com/notebooks/data_table.ipynb>data table notebook</a>'\n",
       "            + ' to learn more about interactive tables.';\n",
       "          element.innerHTML = '';\n",
       "          dataTable['output_type'] = 'display_data';\n",
       "          await google.colab.output.renderOutput(dataTable, element);\n",
       "          const docLink = document.createElement('div');\n",
       "          docLink.innerHTML = docLinkHtml;\n",
       "          element.appendChild(docLink);\n",
       "        }\n",
       "      </script>\n",
       "    </div>\n",
       "  </div>\n",
       "  "
      ],
      "text/plain": [
       "       price  superficie_habitable  superficie_terrain codeP gouvernorat  \\\n",
       "0  1350000.0                 150.0               150.0   NaN    ZAGHOUAN   \n",
       "1   840000.0                 150.0               150.0   NaN    ZAGHOUAN   \n",
       "2   850000.0                 450.0               450.0   NaN    ZAGHOUAN   \n",
       "3   946000.0                 150.0               150.0   NaN    ZAGHOUAN   \n",
       "4   650000.0                 150.0               150.0   NaN    ZAGHOUAN   \n",
       "\n",
       "  delegation      localite                                  adresse  \\\n",
       "0   LA MARSA  Ain Zaghouan                        ain zaghouan nord   \n",
       "1   LA MARSA           NaN            Ain Zaghouan, La Marsa, Tunis   \n",
       "2        NaN           NaN                        El Fahs, Zaghouan   \n",
       "3        NaN           NaN  jardin de carthage, Aïn Zaghouan, Tunis   \n",
       "4        NaN           NaN                       Zaghouan, Zaghouan   \n",
       "\n",
       "  anneeConst  nbpiece  ... fonds plein_air  salle_de_bain constructible  \\\n",
       "0        NaN        0  ...     0       0.0              0             0   \n",
       "1        NaN        0  ...     0       0.0              0             0   \n",
       "2        NaN        0  ...     0       0.0              3             0   \n",
       "3        NaN        0  ...     0       0.0              0             0   \n",
       "4        NaN        0  ...     0       0.0              0             0   \n",
       "\n",
       "  service  chauffage  climatisation  cuisine  installations_sportives  \\\n",
       "0     0.0        0.0            0.0      0.0                      0.0   \n",
       "1     0.0        0.0            0.0      0.0                      0.0   \n",
       "2     0.0        0.0            0.0      0.0                      0.0   \n",
       "3     0.0        0.0            0.0      0.0                      0.0   \n",
       "4     0.0        0.0            0.0      0.0                      0.0   \n",
       "\n",
       "                                         description  \n",
       "0  fb.72 contacter notre conseiller en immobilier...  \n",
       "1                                                  0  \n",
       "2                                                  0  \n",
       "3                                                  0  \n",
       "4                                                  0  \n",
       "\n",
       "[5 rows x 21 columns]"
      ]
     },
     "execution_count": 17,
     "metadata": {},
     "output_type": "execute_result"
    }
   ],
   "source": [
    "df.head()"
   ]
  },
  {
   "cell_type": "code",
   "execution_count": null,
   "metadata": {
    "colab": {
     "base_uri": "https://localhost:8080/"
    },
    "id": "C3NUuK0fC3JW",
    "outputId": "8f63fb76-9dbc-4a88-f38d-faf4ce5f9197"
   },
   "outputs": [
    {
     "data": {
      "text/plain": [
       "Index(['Unnamed: 0', 'Unnamed: 0.1', 'price', 'superficie_habitable',\n",
       "       'superficie_terrain', 'codeP', 'gouvernorat', 'delegation', 'localite',\n",
       "       'adresse', 'anneeConst', 'nbpiece', 'typeImm', 'fonds', 'plein_air',\n",
       "       'salle_de_bain', 'constructible', 'service', 'chauffage',\n",
       "       'climatisation', 'cuisine', 'installations_sportives', 'description'],\n",
       "      dtype='object')"
      ]
     },
     "execution_count": 5,
     "metadata": {},
     "output_type": "execute_result"
    }
   ],
   "source": [
    "df.columns"
   ]
  },
  {
   "cell_type": "markdown",
   "metadata": {
    "id": "CywJW6qVDI2c"
   },
   "source": [
    "## Split Data By Type"
   ]
  },
  {
   "cell_type": "code",
   "execution_count": null,
   "metadata": {
    "id": "3rguZr2QCvqV"
   },
   "outputs": [],
   "source": [
    "grouped = df.groupby('typeImm')\n",
    "  \n",
    "df_commerce= grouped.get_group('commerce')\n",
    "df_commerce.to_csv(\"df_commerce.csv\",sep=\",\")\n",
    "\n",
    "df_terrain= grouped.get_group('terrain')\n",
    "df_terrain.to_csv(\"df_terrain.csv\",sep=\",\")\n",
    "\n",
    "df_maison= grouped.get_group('maison')\n",
    "df_maison.to_csv(\"df_maison.csv\",sep=\",\")\n",
    "\n",
    "df_appartement= grouped.get_group('appartement')\n",
    "df_appartement.to_csv(\"df_appartement.csv\",sep=\",\")"
   ]
  },
  {
   "cell_type": "code",
   "execution_count": null,
   "metadata": {
    "colab": {
     "base_uri": "https://localhost:8080/"
    },
    "id": "z2v7WoPYrEyF",
    "outputId": "e2b07635-6b86-4edd-cbc8-88b9c919ba07"
   },
   "outputs": [
    {
     "data": {
      "text/plain": [
       "price                        0\n",
       "superficie_habitable         0\n",
       "superficie_terrain           0\n",
       "codeP                      310\n",
       "gouvernorat                  0\n",
       "delegation                 109\n",
       "localite                   187\n",
       "adresse                     53\n",
       "anneeConst                 413\n",
       "nbpiece                      0\n",
       "typeImm                      0\n",
       "fonds                        0\n",
       "plein_air                    0\n",
       "salle_de_bain                0\n",
       "constructible                0\n",
       "service                      0\n",
       "chauffage                    0\n",
       "climatisation                0\n",
       "cuisine                      0\n",
       "installations_sportives      0\n",
       "description                  0\n",
       "dtype: int64"
      ]
     },
     "execution_count": 20,
     "metadata": {},
     "output_type": "execute_result"
    }
   ],
   "source": [
    "df_commerce.isnull().sum()\n"
   ]
  },
  {
   "cell_type": "code",
   "execution_count": null,
   "metadata": {
    "colab": {
     "base_uri": "https://localhost:8080/"
    },
    "id": "7nRMpFDRD3tt",
    "outputId": "b91e9b8a-15b1-4829-eb47-bb202019129b"
   },
   "outputs": [
    {
     "name": "stdout",
     "output_type": "stream",
     "text": [
      "<class 'pandas.core.frame.DataFrame'>\n",
      "Int64Index: 417 entries, 0 to 13887\n",
      "Data columns (total 21 columns):\n",
      " #   Column                   Non-Null Count  Dtype  \n",
      "---  ------                   --------------  -----  \n",
      " 0   price                    417 non-null    float64\n",
      " 1   superficie_habitable     417 non-null    float64\n",
      " 2   superficie_terrain       417 non-null    float64\n",
      " 3   codeP                    90 non-null     float64\n",
      " 4   gouvernorat              417 non-null    object \n",
      " 5   delegation               308 non-null    object \n",
      " 6   localite                 230 non-null    object \n",
      " 7   adresse                  364 non-null    object \n",
      " 8   anneeConst               4 non-null      object \n",
      " 9   nbpiece                  417 non-null    int64  \n",
      " 10  typeImm                  417 non-null    object \n",
      " 11  fonds                    21 non-null     object \n",
      " 12  plein_air                0 non-null      float64\n",
      " 13  salle_de_bain            47 non-null     object \n",
      " 14  constructible            14 non-null     object \n",
      " 15  service                  0 non-null      float64\n",
      " 16  chauffage                0 non-null      float64\n",
      " 17  climatisation            0 non-null      float64\n",
      " 18  cuisine                  0 non-null      float64\n",
      " 19  installations_sportives  0 non-null      float64\n",
      " 20  description              284 non-null    object \n",
      "dtypes: float64(10), int64(1), object(10)\n",
      "memory usage: 71.7+ KB\n"
     ]
    }
   ],
   "source": [
    "df_commerce.info()"
   ]
  },
  {
   "cell_type": "code",
   "execution_count": null,
   "metadata": {
    "colab": {
     "base_uri": "https://localhost:8080/"
    },
    "id": "N1lTHVbrEum9",
    "outputId": "13124cbf-3531-447a-9a88-818f515cdd3f"
   },
   "outputs": [
    {
     "name": "stdout",
     "output_type": "stream",
     "text": [
      "<class 'pandas.core.frame.DataFrame'>\n",
      "Int64Index: 2614 entries, 5 to 13768\n",
      "Data columns (total 21 columns):\n",
      " #   Column                   Non-Null Count  Dtype  \n",
      "---  ------                   --------------  -----  \n",
      " 0   price                    2614 non-null   float64\n",
      " 1   superficie_habitable     2614 non-null   float64\n",
      " 2   superficie_terrain       2614 non-null   float64\n",
      " 3   codeP                    214 non-null    float64\n",
      " 4   gouvernorat              2614 non-null   object \n",
      " 5   delegation               1956 non-null   object \n",
      " 6   localite                 650 non-null    object \n",
      " 7   adresse                  2410 non-null   object \n",
      " 8   anneeConst               12 non-null     object \n",
      " 9   nbpiece                  2614 non-null   int64  \n",
      " 10  typeImm                  2614 non-null   object \n",
      " 11  fonds                    42 non-null     object \n",
      " 12  plein_air                0 non-null      float64\n",
      " 13  salle_de_bain            27 non-null     object \n",
      " 14  constructible            103 non-null    object \n",
      " 15  service                  0 non-null      float64\n",
      " 16  chauffage                0 non-null      float64\n",
      " 17  climatisation            0 non-null      float64\n",
      " 18  cuisine                  0 non-null      float64\n",
      " 19  installations_sportives  0 non-null      float64\n",
      " 20  description              782 non-null    object \n",
      "dtypes: float64(10), int64(1), object(10)\n",
      "memory usage: 449.3+ KB\n"
     ]
    }
   ],
   "source": [
    "df_terrain.info()"
   ]
  },
  {
   "cell_type": "code",
   "execution_count": null,
   "metadata": {
    "colab": {
     "base_uri": "https://localhost:8080/"
    },
    "id": "IOcObCbVEFUO",
    "outputId": "87d045f6-1143-4be3-fd4a-5bb28cfa826b"
   },
   "outputs": [
    {
     "name": "stdout",
     "output_type": "stream",
     "text": [
      "<class 'pandas.core.frame.DataFrame'>\n",
      "Int64Index: 2807 entries, 41 to 13925\n",
      "Data columns (total 21 columns):\n",
      " #   Column                   Non-Null Count  Dtype  \n",
      "---  ------                   --------------  -----  \n",
      " 0   price                    2807 non-null   float64\n",
      " 1   superficie_habitable     2807 non-null   float64\n",
      " 2   superficie_terrain       2807 non-null   float64\n",
      " 3   codeP                    409 non-null    object \n",
      " 4   gouvernorat              2807 non-null   object \n",
      " 5   delegation               1795 non-null   object \n",
      " 6   localite                 693 non-null    object \n",
      " 7   adresse                  2643 non-null   object \n",
      " 8   anneeConst               23 non-null     object \n",
      " 9   nbpiece                  2807 non-null   int64  \n",
      " 10  typeImm                  2807 non-null   object \n",
      " 11  fonds                    2807 non-null   object \n",
      " 12  plein_air                2807 non-null   float64\n",
      " 13  salle_de_bain            2807 non-null   object \n",
      " 14  constructible            2807 non-null   object \n",
      " 15  service                  2807 non-null   float64\n",
      " 16  chauffage                2807 non-null   float64\n",
      " 17  climatisation            2807 non-null   float64\n",
      " 18  cuisine                  2807 non-null   float64\n",
      " 19  installations_sportives  2807 non-null   float64\n",
      " 20  description              2807 non-null   object \n",
      "dtypes: float64(9), int64(1), object(11)\n",
      "memory usage: 482.5+ KB\n"
     ]
    }
   ],
   "source": [
    "df_maison.info()"
   ]
  },
  {
   "cell_type": "code",
   "execution_count": null,
   "metadata": {
    "colab": {
     "base_uri": "https://localhost:8080/"
    },
    "id": "gWNJGE5vFWF3",
    "outputId": "d6ab7b5a-fb27-4afb-d904-c843b50da71a"
   },
   "outputs": [
    {
     "name": "stdout",
     "output_type": "stream",
     "text": [
      "<class 'pandas.core.frame.DataFrame'>\n",
      "Int64Index: 6816 entries, 435 to 14120\n",
      "Data columns (total 21 columns):\n",
      " #   Column                   Non-Null Count  Dtype  \n",
      "---  ------                   --------------  -----  \n",
      " 0   price                    6816 non-null   float64\n",
      " 1   superficie_habitable     6816 non-null   float64\n",
      " 2   superficie_terrain       6816 non-null   float64\n",
      " 3   codeP                    1432 non-null   object \n",
      " 4   gouvernorat              6816 non-null   object \n",
      " 5   delegation               5118 non-null   object \n",
      " 6   localite                 2377 non-null   object \n",
      " 7   adresse                  6343 non-null   object \n",
      " 8   anneeConst               41 non-null     object \n",
      " 9   nbpiece                  6816 non-null   int64  \n",
      " 10  typeImm                  6816 non-null   object \n",
      " 11  fonds                    6816 non-null   object \n",
      " 12  plein_air                6816 non-null   float64\n",
      " 13  salle_de_bain            6816 non-null   object \n",
      " 14  constructible            6816 non-null   object \n",
      " 15  service                  6816 non-null   float64\n",
      " 16  chauffage                6816 non-null   float64\n",
      " 17  climatisation            6816 non-null   float64\n",
      " 18  cuisine                  6816 non-null   float64\n",
      " 19  installations_sportives  6816 non-null   float64\n",
      " 20  description              6816 non-null   object \n",
      "dtypes: float64(9), int64(1), object(11)\n",
      "memory usage: 1.1+ MB\n"
     ]
    }
   ],
   "source": [
    "df_appartement.info()"
   ]
  },
  {
   "cell_type": "code",
   "execution_count": null,
   "metadata": {
    "colab": {
     "base_uri": "https://localhost:8080/"
    },
    "id": "Dn3WMJ-yFh7Y",
    "outputId": "29a473d4-2cae-44ac-d05e-8fc8eaba30c5"
   },
   "outputs": [
    {
     "data": {
      "text/plain": [
       "0           commerce\n",
       "1           commerce\n",
       "2           commerce\n",
       "3           commerce\n",
       "4           commerce\n",
       "            ...     \n",
       "14116    appartement\n",
       "14117    appartement\n",
       "14118    appartement\n",
       "14119    appartement\n",
       "14120    appartement\n",
       "Name: typeImm, Length: 14121, dtype: object"
      ]
     },
     "execution_count": 20,
     "metadata": {},
     "output_type": "execute_result"
    }
   ],
   "source": [
    "df[\"typeImm\"]"
   ]
  },
  {
   "cell_type": "markdown",
   "metadata": {
    "id": "I11K1O7EXhZd"
   },
   "source": [
    "#Feature Importance"
   ]
  },
  {
   "cell_type": "markdown",
   "metadata": {
    "id": "5ceNah7VX6CU"
   },
   "source": [
    "## Correlation"
   ]
  },
  {
   "cell_type": "code",
   "execution_count": null,
   "metadata": {
    "id": "_r74EWWhWktt"
   },
   "outputs": [],
   "source": [
    "array = df.values\n",
    "X1=df.drop(\"price\",axis=1)\n",
    "Y1=df[\"price\"]"
   ]
  },
  {
   "cell_type": "code",
   "execution_count": null,
   "metadata": {
    "colab": {
     "base_uri": "https://localhost:8080/"
    },
    "id": "QWaL1-RbXJJ9",
    "outputId": "e7548c10-96fd-45cc-b07f-04121b8f78a8"
   },
   "outputs": [
    {
     "data": {
      "text/plain": [
       "price                   1.000000\n",
       "superficie_habitable    0.297691\n",
       "superficie_terrain      0.297691\n",
       "codeP                   0.042566\n",
       "gouvernorat             0.077526\n",
       "delegation              0.063275\n",
       "localite                0.012231\n",
       "adresse                 0.006753\n",
       "anneeConst              0.007132\n",
       "nbpiece                 0.058641\n",
       "typeImm                 0.427960\n",
       "fonds                   0.057102\n",
       "salle_de_bain           0.184589\n",
       "constructible           0.001609\n",
       "description             0.029165\n",
       "Name: price, dtype: float64"
      ]
     },
     "execution_count": 53,
     "metadata": {},
     "output_type": "execute_result"
    }
   ],
   "source": [
    "cor = df.corr()\n",
    "#Correlation with output variable\n",
    "cor_target = abs(cor[\"price\"])\n",
    "#Selecting highly correlated features\n",
    "relevant_features = cor_target[cor_target>0.00]\n",
    "relevant_features"
   ]
  },
  {
   "cell_type": "code",
   "execution_count": null,
   "metadata": {
    "colab": {
     "base_uri": "https://localhost:8080/",
     "height": 437
    },
    "id": "tnOmdUe0XPBt",
    "outputId": "4eeaff60-bf33-4600-d6cc-8837a8f1f41d"
   },
   "outputs": [
    {
     "data": {
      "image/png": "[encoded data removed]",
      "text/plain": [
       "<Figure size 1080x360 with 1 Axes>"
      ]
     },
     "metadata": {
      "needs_background": "light"
     },
     "output_type": "display_data"
    }
   ],
   "source": [
    "plt.figure(figsize=(15,5))\n",
    "plt.title(\"Correlation of Features with price \")\n",
    "df.corr()['price'].drop(index='price').sort_values(ascending=False).plot(kind='bar')\n",
    "plt.show()"
   ]
  },
  {
   "cell_type": "markdown",
   "metadata": {
    "id": "2qYJIEgdYDtR"
   },
   "source": [
    "## Anova"
   ]
  },
  {
   "cell_type": "code",
   "execution_count": null,
   "metadata": {
    "id": "cZV2ksT3YByl"
   },
   "outputs": [],
   "source": [
    "from sklearn.feature_selection import f_classif"
   ]
  },
  {
   "cell_type": "code",
   "execution_count": null,
   "metadata": {
    "id": "O6HjmmOGY3Ox"
   },
   "outputs": [],
   "source": [
    "array = df.values\n",
    "X1=df.drop(\"price\",axis=1)\n",
    "Y1=df[\"price\"]\n"
   ]
  },
  {
   "cell_type": "code",
   "execution_count": null,
   "metadata": {
    "colab": {
     "base_uri": "https://localhost:8080/",
     "height": 746
    },
    "id": "vv32d7MPYNVh",
    "outputId": "da46408a-e8db-418b-c758-1d238ba9df88"
   },
   "outputs": [
    {
     "name": "stderr",
     "output_type": "stream",
     "text": [
      "/usr/local/lib/python3.7/dist-packages/sklearn/feature_selection/_univariate_selection.py:112: UserWarning: Features [11 14 15 16 17 18] are constant.\n",
      "  warnings.warn(\"Features %s are constant.\" % constant_features_idx, UserWarning)\n",
      "/usr/local/lib/python3.7/dist-packages/sklearn/feature_selection/_univariate_selection.py:113: RuntimeWarning: invalid value encountered in true_divide\n",
      "  f = msb / msw\n"
     ]
    },
    {
     "data": {
      "text/html": [
       "\n",
       "  <div id=\"df-0c89be7d-e612-4742-9258-d030ec0c077d\">\n",
       "    <div class=\"colab-df-container\">\n",
       "      <div>\n",
       "<style scoped>\n",
       "    .dataframe tbody tr th:only-of-type {\n",
       "        vertical-align: middle;\n",
       "    }\n",
       "\n",
       "    .dataframe tbody tr th {\n",
       "        vertical-align: top;\n",
       "    }\n",
       "\n",
       "    .dataframe thead th {\n",
       "        text-align: right;\n",
       "    }\n",
       "</style>\n",
       "<table border=\"1\" class=\"dataframe\">\n",
       "  <thead>\n",
       "    <tr style=\"text-align: right;\">\n",
       "      <th></th>\n",
       "      <th>Numerical_Feature</th>\n",
       "      <th>F-Score</th>\n",
       "      <th>p values</th>\n",
       "    </tr>\n",
       "  </thead>\n",
       "  <tbody>\n",
       "    <tr>\n",
       "      <th>0</th>\n",
       "      <td>typeImm</td>\n",
       "      <td>5.013231</td>\n",
       "      <td>0.000000e+00</td>\n",
       "    </tr>\n",
       "    <tr>\n",
       "      <th>1</th>\n",
       "      <td>constructible</td>\n",
       "      <td>3.009495</td>\n",
       "      <td>0.000000e+00</td>\n",
       "    </tr>\n",
       "    <tr>\n",
       "      <th>2</th>\n",
       "      <td>superficie_habitable</td>\n",
       "      <td>2.072240</td>\n",
       "      <td>0.000000e+00</td>\n",
       "    </tr>\n",
       "    <tr>\n",
       "      <th>3</th>\n",
       "      <td>superficie_terrain</td>\n",
       "      <td>2.072240</td>\n",
       "      <td>0.000000e+00</td>\n",
       "    </tr>\n",
       "    <tr>\n",
       "      <th>4</th>\n",
       "      <td>codeP</td>\n",
       "      <td>1.608315</td>\n",
       "      <td>0.000000e+00</td>\n",
       "    </tr>\n",
       "    <tr>\n",
       "      <th>5</th>\n",
       "      <td>gouvernorat</td>\n",
       "      <td>1.581328</td>\n",
       "      <td>0.000000e+00</td>\n",
       "    </tr>\n",
       "    <tr>\n",
       "      <th>6</th>\n",
       "      <td>salle_de_bain</td>\n",
       "      <td>1.381102</td>\n",
       "      <td>0.000000e+00</td>\n",
       "    </tr>\n",
       "    <tr>\n",
       "      <th>7</th>\n",
       "      <td>delegation</td>\n",
       "      <td>1.354300</td>\n",
       "      <td>0.000000e+00</td>\n",
       "    </tr>\n",
       "    <tr>\n",
       "      <th>8</th>\n",
       "      <td>description</td>\n",
       "      <td>1.291128</td>\n",
       "      <td>0.000000e+00</td>\n",
       "    </tr>\n",
       "    <tr>\n",
       "      <th>9</th>\n",
       "      <td>localite</td>\n",
       "      <td>1.234574</td>\n",
       "      <td>1.210000e-08</td>\n",
       "    </tr>\n",
       "    <tr>\n",
       "      <th>10</th>\n",
       "      <td>adresse</td>\n",
       "      <td>1.139383</td>\n",
       "      <td>3.089160e-04</td>\n",
       "    </tr>\n",
       "    <tr>\n",
       "      <th>11</th>\n",
       "      <td>nbpiece</td>\n",
       "      <td>1.108602</td>\n",
       "      <td>3.489764e-03</td>\n",
       "    </tr>\n",
       "    <tr>\n",
       "      <th>12</th>\n",
       "      <td>fonds</td>\n",
       "      <td>0.709721</td>\n",
       "      <td>1.000000e+00</td>\n",
       "    </tr>\n",
       "    <tr>\n",
       "      <th>13</th>\n",
       "      <td>anneeConst</td>\n",
       "      <td>0.487101</td>\n",
       "      <td>1.000000e+00</td>\n",
       "    </tr>\n",
       "    <tr>\n",
       "      <th>14</th>\n",
       "      <td>plein_air</td>\n",
       "      <td>NaN</td>\n",
       "      <td>NaN</td>\n",
       "    </tr>\n",
       "    <tr>\n",
       "      <th>15</th>\n",
       "      <td>service</td>\n",
       "      <td>NaN</td>\n",
       "      <td>NaN</td>\n",
       "    </tr>\n",
       "    <tr>\n",
       "      <th>16</th>\n",
       "      <td>chauffage</td>\n",
       "      <td>NaN</td>\n",
       "      <td>NaN</td>\n",
       "    </tr>\n",
       "    <tr>\n",
       "      <th>17</th>\n",
       "      <td>climatisation</td>\n",
       "      <td>NaN</td>\n",
       "      <td>NaN</td>\n",
       "    </tr>\n",
       "    <tr>\n",
       "      <th>18</th>\n",
       "      <td>cuisine</td>\n",
       "      <td>NaN</td>\n",
       "      <td>NaN</td>\n",
       "    </tr>\n",
       "    <tr>\n",
       "      <th>19</th>\n",
       "      <td>installations_sportives</td>\n",
       "      <td>NaN</td>\n",
       "      <td>NaN</td>\n",
       "    </tr>\n",
       "  </tbody>\n",
       "</table>\n",
       "</div>\n",
       "      <button class=\"colab-df-convert\" onclick=\"convertToInteractive('df-0c89be7d-e612-4742-9258-d030ec0c077d')\"\n",
       "              title=\"Convert this dataframe to an interactive table.\"\n",
       "              style=\"display:none;\">\n",
       "        \n",
       "  <svg xmlns=\"http://www.w3.org/2000/svg\" height=\"24px\"viewBox=\"0 0 24 24\"\n",
       "       width=\"24px\">\n",
       "    <path d=\"M0 0h24v24H0V0z\" fill=\"none\"/>\n",
       "    <path d=\"M18.56 5.44l.94 2.06.94-2.06 2.06-.94-2.06-.94-.94-2.06-.94 2.06-2.06.94zm-11 1L8.5 8.5l.94-2.06 2.06-.94-2.06-.94L8.5 2.5l-.94 2.06-2.06.94zm10 10l.94 2.06.94-2.06 2.06-.94-2.06-.94-.94-2.06-.94 2.06-2.06.94z\"/><path d=\"M17.41 7.96l-1.37-1.37c-.4-.4-.92-.59-1.43-.59-.52 0-1.04.2-1.43.59L10.3 9.45l-7.72 7.72c-.78.78-.78 2.05 0 2.83L4 21.41c.39.39.9.59 1.41.59.51 0 1.02-.2 1.41-.59l7.78-7.78 2.81-2.81c.8-.78.8-2.07 0-2.86zM5.41 20L4 18.59l7.72-7.72 1.47 1.35L5.41 20z\"/>\n",
       "  </svg>\n",
       "      </button>\n",
       "      \n",
       "  <style>\n",
       "    .colab-df-container {\n",
       "      display:flex;\n",
       "      flex-wrap:wrap;\n",
       "      gap: 12px;\n",
       "    }\n",
       "\n",
       "    .colab-df-convert {\n",
       "      background-color: #E8F0FE;\n",
       "      border: none;\n",
       "      border-radius: 50%;\n",
       "      cursor: pointer;\n",
       "      display: none;\n",
       "      fill: #1967D2;\n",
       "      height: 32px;\n",
       "      padding: 0 0 0 0;\n",
       "      width: 32px;\n",
       "    }\n",
       "\n",
       "    .colab-df-convert:hover {\n",
       "      background-color: #E2EBFA;\n",
       "      box-shadow: 0px 1px 2px rgba(60, 64, 67, 0.3), 0px 1px 3px 1px rgba(60, 64, 67, 0.15);\n",
       "      fill: #174EA6;\n",
       "    }\n",
       "\n",
       "    [theme=dark] .colab-df-convert {\n",
       "      background-color: #3B4455;\n",
       "      fill: #D2E3FC;\n",
       "    }\n",
       "\n",
       "    [theme=dark] .colab-df-convert:hover {\n",
       "      background-color: #434B5C;\n",
       "      box-shadow: 0px 1px 3px 1px rgba(0, 0, 0, 0.15);\n",
       "      filter: drop-shadow(0px 1px 2px rgba(0, 0, 0, 0.3));\n",
       "      fill: #FFFFFF;\n",
       "    }\n",
       "  </style>\n",
       "\n",
       "      <script>\n",
       "        const buttonEl =\n",
       "          document.querySelector('#df-0c89be7d-e612-4742-9258-d030ec0c077d button.colab-df-convert');\n",
       "        buttonEl.style.display =\n",
       "          google.colab.kernel.accessAllowed ? 'block' : 'none';\n",
       "\n",
       "        async function convertToInteractive(key) {\n",
       "          const element = document.querySelector('#df-0c89be7d-e612-4742-9258-d030ec0c077d');\n",
       "          const dataTable =\n",
       "            await google.colab.kernel.invokeFunction('convertToInteractive',\n",
       "                                                     [key], {});\n",
       "          if (!dataTable) return;\n",
       "\n",
       "          const docLinkHtml = 'Like what you see? Visit the ' +\n",
       "            '<a target=\"_blank\" href=https://colab.research.google.com/notebooks/data_table.ipynb>data table notebook</a>'\n",
       "            + ' to learn more about interactive tables.';\n",
       "          element.innerHTML = '';\n",
       "          dataTable['output_type'] = 'display_data';\n",
       "          await google.colab.output.renderOutput(dataTable, element);\n",
       "          const docLink = document.createElement('div');\n",
       "          docLink.innerHTML = docLinkHtml;\n",
       "          element.appendChild(docLink);\n",
       "        }\n",
       "      </script>\n",
       "    </div>\n",
       "  </div>\n",
       "  "
      ],
      "text/plain": [
       "          Numerical_Feature   F-Score      p values\n",
       "0                   typeImm  5.013231  0.000000e+00\n",
       "1             constructible  3.009495  0.000000e+00\n",
       "2      superficie_habitable  2.072240  0.000000e+00\n",
       "3        superficie_terrain  2.072240  0.000000e+00\n",
       "4                     codeP  1.608315  0.000000e+00\n",
       "5               gouvernorat  1.581328  0.000000e+00\n",
       "6             salle_de_bain  1.381102  0.000000e+00\n",
       "7                delegation  1.354300  0.000000e+00\n",
       "8               description  1.291128  0.000000e+00\n",
       "9                  localite  1.234574  1.210000e-08\n",
       "10                  adresse  1.139383  3.089160e-04\n",
       "11                  nbpiece  1.108602  3.489764e-03\n",
       "12                    fonds  0.709721  1.000000e+00\n",
       "13               anneeConst  0.487101  1.000000e+00\n",
       "14                plein_air       NaN           NaN\n",
       "15                  service       NaN           NaN\n",
       "16                chauffage       NaN           NaN\n",
       "17            climatisation       NaN           NaN\n",
       "18                  cuisine       NaN           NaN\n",
       "19  installations_sportives       NaN           NaN"
      ]
     },
     "execution_count": 27,
     "metadata": {},
     "output_type": "execute_result"
    }
   ],
   "source": [
    "# since f_class_if does not accept missing values, we will do a very crude imputation of missing values\n",
    "#X_train_num.fillna(X_train_num.mean(), inplace = True)\n",
    "# Calculate F Statistic and corresponding p values\n",
    "\n",
    "F_statistic, p_values = f_classif(X1,Y1)\n",
    "# convert to a DF\n",
    "ANOVA_F_table = pd.DataFrame(data = {'Numerical_Feature': X1.columns.values, 'F-Score': F_statistic, 'p values': p_values.round(decimals=10)})\n",
    "ANOVA_F_table.sort_values(by = ['F-Score'], ascending = False, ignore_index = True, inplace = True)\n",
    "ANOVA_F_table"
   ]
  },
  {
   "cell_type": "markdown",
   "metadata": {
    "id": "WsgOEK8_eZfd"
   },
   "source": [
    "# Modeling"
   ]
  },
  {
   "cell_type": "code",
   "execution_count": null,
   "metadata": {
    "id": "Re8HZYgAVp6L"
   },
   "outputs": [],
   "source": [
    "from sklearn.model_selection import train_test_split \n",
    "X_train, X_test, y_train, y_test = train_test_split(features,\n",
    "                                        target,\n",
    "                                        test_size=.2,\n",
    "                                        shuffle=True,\n",
    "                                        random_state=42,\n",
    "                                       \n",
    "                                        )"
   ]
  },
  {
   "cell_type": "markdown",
   "metadata": {
    "id": "EWGZl_J8efBX"
   },
   "source": [
    "RandomForest"
   ]
  },
  {
   "cell_type": "code",
   "execution_count": null,
   "metadata": {
    "id": "5DLZHgjeV01S"
   },
   "outputs": [],
   "source": [
    "from sklearn.model_selection import GridSearchCV\n",
    "from sklearn.ensemble import RandomForestRegressor\n",
    "param_grid = [\n",
    "{'n_estimators': [10, 50, 200, 500]}\n",
    "]\n",
    "regressor = RandomForestRegressor(n_jobs=-1)"
   ]
  },
  {
   "cell_type": "code",
   "execution_count": null,
   "metadata": {
    "colab": {
     "base_uri": "https://localhost:8080/"
    },
    "id": "kYnNYYSZaEAf",
    "outputId": "4f910298-e70f-4fdc-892d-6ac27730e089"
   },
   "outputs": [
    {
     "data": {
      "text/plain": [
       "0.6022675760825787"
      ]
     },
     "execution_count": 55,
     "metadata": {},
     "output_type": "execute_result"
    }
   ],
   "source": [
    "regressor = RandomForestRegressor(n_estimators=500, random_state=0,n_jobs=-1)\n",
    "regressor.fit(X_train,y_train)\n",
    "regressor.score(X_test, y_test)"
   ]
  },
  {
   "cell_type": "markdown",
   "metadata": {
    "id": "PFQe7lGBa3eH"
   },
   "source": [
    " XGBoost\n",
    " "
   ]
  },
  {
   "cell_type": "code",
   "execution_count": null,
   "metadata": {
    "colab": {
     "base_uri": "https://localhost:8080/"
    },
    "id": "kpj2rtq9aXkZ",
    "outputId": "000b0b41-94e4-4720-a3d9-f3345071dfee"
   },
   "outputs": [
    {
     "name": "stdout",
     "output_type": "stream",
     "text": [
      "[15:12:04] WARNING: /workspace/src/objective/regression_obj.cu:152: reg:linear is now deprecated in favor of reg:squarederror.\n"
     ]
    }
   ],
   "source": [
    "#model implementation and fitting data\n",
    "xg_reg = xgb.XGBRegressor(objective ='reg:linear', learning_rate = 0.3,\n",
    "                max_depth = 5, alpha = 1, n_estimators = 300)\n",
    "xg_reg.fit(X_train,y_train)\n",
    "y_predXG = xg_reg.predict(X_test)"
   ]
  },
  {
   "cell_type": "code",
   "execution_count": null,
   "metadata": {
    "id": "BtjXF65AffE-"
   },
   "outputs": [],
   "source": []
  },
  {
   "cell_type": "code",
   "execution_count": null,
   "metadata": {
    "colab": {
     "base_uri": "https://localhost:8080/"
    },
    "id": "YoiiLSZsaurm",
    "outputId": "ce2c402b-e81f-49fa-b0fd-7759d1f40f20"
   },
   "outputs": [
    {
     "data": {
      "text/plain": [
       "0.6074362415369048"
      ]
     },
     "execution_count": 65,
     "metadata": {},
     "output_type": "execute_result"
    }
   ],
   "source": [
    "xg_reg.score(X_test,y_test)"
   ]
  },
  {
   "cell_type": "code",
   "execution_count": null,
   "metadata": {
    "id": "xtlNhOBBhBWY"
   },
   "outputs": [],
   "source": []
  },
  {
   "cell_type": "markdown",
   "metadata": {
    "id": "LMc6r3zyro41"
   },
   "source": [
    "# Modeling By TypeImm"
   ]
  },
  {
   "cell_type": "markdown",
   "metadata": {
    "id": "k_TjT_TOelXZ"
   },
   "source": [
    "### Modeling By TypeImm Commerce"
   ]
  },
  {
   "cell_type": "code",
   "execution_count": null,
   "metadata": {
    "id": "L7hRcrS5fgKM"
   },
   "outputs": [],
   "source": [
    "df22 = pd.read_csv('/content/df_commerce.csv')\n"
   ]
  },
  {
   "cell_type": "code",
   "execution_count": null,
   "metadata": {
    "id": "ZOcfVJdrfrLT"
   },
   "outputs": [],
   "source": [
    "array = df22.values\n",
    "X22=df22.drop(\"price\",axis=1)\n",
    "y22=df22[\"price\"]"
   ]
  },
  {
   "cell_type": "code",
   "execution_count": null,
   "metadata": {
    "id": "uEESxdMNf4kV"
   },
   "outputs": [],
   "source": [
    "from sklearn.model_selection import train_test_split \n",
    "X_train22,X_test22,y_train22,y_test22=train_test_split(X22,y22,train_size=0.8,test_size=0.2,random_state=0)\n"
   ]
  },
  {
   "cell_type": "code",
   "execution_count": null,
   "metadata": {
    "colab": {
     "base_uri": "https://localhost:8080/"
    },
    "id": "M_IoDPjbf_0Q",
    "outputId": "d136b959-fbca-48a0-ac21-0a03f61b4547"
   },
   "outputs": [
    {
     "name": "stdout",
     "output_type": "stream",
     "text": [
      "[11:17:06] WARNING: /workspace/src/objective/regression_obj.cu:152: reg:linear is now deprecated in favor of reg:squarederror.\n"
     ]
    }
   ],
   "source": [
    "#model implementation and fitting data\n",
    "xg_reg = xgb.XGBRegressor(objective ='reg:linear', learning_rate = 0.3,\n",
    "                max_depth = 5, alpha = 1, n_estimators = 300)\n",
    "xg_reg.fit(X_train22,y_train22)\n",
    "y_predXG = xg_reg.predict(X_test22)"
   ]
  },
  {
   "cell_type": "code",
   "execution_count": null,
   "metadata": {
    "id": "t4zWgIP0eydE"
   },
   "outputs": [],
   "source": []
  },
  {
   "cell_type": "code",
   "execution_count": null,
   "metadata": {
    "colab": {
     "base_uri": "https://localhost:8080/"
    },
    "id": "zBNrOo4Ng604",
    "outputId": "fe48b12b-f38a-4715-9dc3-7d7f7126a7f1"
   },
   "outputs": [
    {
     "name": "stdout",
     "output_type": "stream",
     "text": [
      "0.04345339556946781\n"
     ]
    }
   ],
   "source": [
    "Commerce=xg_reg.score(X_test22,y_test22)\n",
    "print(Commerce)"
   ]
  },
  {
   "cell_type": "markdown",
   "metadata": {
    "id": "7Y-FPV9YeuHe"
   },
   "source": [
    "### Modeling By TypeImm Maison"
   ]
  },
  {
   "cell_type": "code",
   "execution_count": null,
   "metadata": {
    "id": "X-9DDOdjc3HS"
   },
   "outputs": [],
   "source": [
    "df_maison = pd.read_csv('/content/df_maison.csv')\n"
   ]
  },
  {
   "cell_type": "code",
   "execution_count": null,
   "metadata": {
    "id": "Lblyqmf2d3vk"
   },
   "outputs": [],
   "source": [
    "array = df_maison.values\n",
    "XM=df_maison.drop(\"price\",axis=1)\n",
    "yM=df_maison[\"price\"]"
   ]
  },
  {
   "cell_type": "code",
   "execution_count": null,
   "metadata": {
    "id": "fFdHlpPVdt04"
   },
   "outputs": [],
   "source": [
    "X_trainM,X_testM,y_trainM,y_testM=train_test_split(XM,yM,train_size=0.8,test_size=0.2,random_state=0)\n"
   ]
  },
  {
   "cell_type": "code",
   "execution_count": null,
   "metadata": {
    "colab": {
     "base_uri": "https://localhost:8080/"
    },
    "id": "iQ1LW08AeCbs",
    "outputId": "710831ce-a3ab-4399-c6d7-c9749d0c94d0"
   },
   "outputs": [
    {
     "name": "stdout",
     "output_type": "stream",
     "text": [
      "[11:15:42] WARNING: /workspace/src/objective/regression_obj.cu:152: reg:linear is now deprecated in favor of reg:squarederror.\n"
     ]
    }
   ],
   "source": [
    "#model implementation and fitting data\n",
    "xg_reg = xgb.XGBRegressor(objective ='reg:linear', learning_rate = 0.3,\n",
    "                max_depth = 5, alpha = 1, n_estimators = 300)\n",
    "xg_reg.fit(X_trainM,y_trainM)\n",
    "y_predXG = xg_reg.predict(X_testM)"
   ]
  },
  {
   "cell_type": "code",
   "execution_count": null,
   "metadata": {
    "colab": {
     "base_uri": "https://localhost:8080/"
    },
    "id": "yyJXEShgeIpW",
    "outputId": "62832c5c-8f85-4324-b55b-71ede29f5ade"
   },
   "outputs": [
    {
     "name": "stdout",
     "output_type": "stream",
     "text": [
      "0.41607241250127625\n"
     ]
    }
   ],
   "source": [
    "Maison=xg_reg.score(X_testM,y_testM)\n",
    "print(Maison)"
   ]
  },
  {
   "cell_type": "markdown",
   "metadata": {
    "id": "F2i-QCKhe2iz"
   },
   "source": [
    "### Modeling By TypeImm Terrain"
   ]
  },
  {
   "cell_type": "code",
   "execution_count": null,
   "metadata": {
    "id": "x9KXiGkhe1qQ"
   },
   "outputs": [],
   "source": [
    "df_terrain = pd.read_csv('/content/df_terrain.csv')\n"
   ]
  },
  {
   "cell_type": "code",
   "execution_count": null,
   "metadata": {
    "id": "_Fox9Droe1te"
   },
   "outputs": [],
   "source": [
    "array = df_terrain.values\n",
    "XT=df_terrain.drop(\"price\",axis=1)\n",
    "yT=df_terrain[\"price\"]"
   ]
  },
  {
   "cell_type": "code",
   "execution_count": null,
   "metadata": {
    "id": "72_TDQbXe1wF"
   },
   "outputs": [],
   "source": [
    "X_trainT,X_testT,y_trainT,y_testT=train_test_split(XT,yT,train_size=0.8,test_size=0.2,random_state=0)\n"
   ]
  },
  {
   "cell_type": "code",
   "execution_count": null,
   "metadata": {
    "colab": {
     "base_uri": "https://localhost:8080/"
    },
    "id": "Axm5NevKfl3H",
    "outputId": "0dbb8d89-93f3-4467-933a-993670d8a2b7"
   },
   "outputs": [
    {
     "name": "stdout",
     "output_type": "stream",
     "text": [
      "[11:22:31] WARNING: /workspace/src/objective/regression_obj.cu:152: reg:linear is now deprecated in favor of reg:squarederror.\n"
     ]
    }
   ],
   "source": [
    "#model implementation and fitting data\n",
    "xg_reg = xgb.XGBRegressor(objective ='reg:linear', learning_rate = 0.3,\n",
    "                max_depth = 5, alpha = 1, n_estimators = 300)\n",
    "xg_reg.fit(X_trainT,y_trainT)\n",
    "y_predXG = xg_reg.predict(X_testT)"
   ]
  },
  {
   "cell_type": "code",
   "execution_count": null,
   "metadata": {
    "colab": {
     "base_uri": "https://localhost:8080/"
    },
    "id": "h95CAj-mfl6m",
    "outputId": "036bfc5a-2ec5-4f17-9a30-17d0743913e4"
   },
   "outputs": [
    {
     "name": "stdout",
     "output_type": "stream",
     "text": [
      "0.41171062721583296\n"
     ]
    }
   ],
   "source": [
    "Terrain=xg_reg.score(X_testT,y_testT)\n",
    "print(Terrain)"
   ]
  },
  {
   "cell_type": "markdown",
   "metadata": {
    "id": "xz4lZbhlgK03"
   },
   "source": [
    "### Modeling By TypeImm Appartement"
   ]
  },
  {
   "cell_type": "code",
   "execution_count": null,
   "metadata": {
    "id": "gJMyjEg0gQXM"
   },
   "outputs": [],
   "source": [
    "df_appartement = pd.read_csv('/content/df_appartement.csv')\n"
   ]
  },
  {
   "cell_type": "code",
   "execution_count": null,
   "metadata": {
    "id": "SC42G4NcgQZs"
   },
   "outputs": [],
   "source": [
    "array = df_appartement.values\n",
    "XA=df_appartement.drop(\"price\",axis=1)\n",
    "yA=df_appartement[\"price\"]"
   ]
  },
  {
   "cell_type": "code",
   "execution_count": null,
   "metadata": {
    "id": "G1imhDZKgQcd"
   },
   "outputs": [],
   "source": [
    "X_trainA,X_testA,y_trainA,y_testA=train_test_split(XA,yA,train_size=0.8,test_size=0.2,random_state=0)\n"
   ]
  },
  {
   "cell_type": "code",
   "execution_count": null,
   "metadata": {
    "colab": {
     "base_uri": "https://localhost:8080/"
    },
    "id": "geyi-TiHgQna",
    "outputId": "f1f99434-0bf5-4cc7-bd2c-43a88a2dd5a3"
   },
   "outputs": [
    {
     "name": "stdout",
     "output_type": "stream",
     "text": [
      "[11:27:32] WARNING: /workspace/src/objective/regression_obj.cu:152: reg:linear is now deprecated in favor of reg:squarederror.\n"
     ]
    }
   ],
   "source": [
    "#model implementation and fitting data\n",
    "xg_reg = xgb.XGBRegressor(objective ='reg:linear', learning_rate = 0.3,\n",
    "                max_depth = 5, alpha = 1, n_estimators = 300)\n",
    "xg_reg.fit(X_trainA,y_trainA)\n",
    "y_predXG = xg_reg.predict(X_testA)"
   ]
  },
  {
   "cell_type": "code",
   "execution_count": null,
   "metadata": {
    "colab": {
     "base_uri": "https://localhost:8080/"
    },
    "id": "xsuiMq-_g2xN",
    "outputId": "410fe9d8-1f7e-4489-dad2-c053e27de964"
   },
   "outputs": [
    {
     "name": "stdout",
     "output_type": "stream",
     "text": [
      "0.4251143823348169\n"
     ]
    }
   ],
   "source": [
    "Appartement=xg_reg.score(X_testA,y_testA)\n",
    "print(Appartement)"
   ]
  },
  {
   "cell_type": "code",
   "execution_count": null,
   "metadata": {
    "id": "bOphA5OgQ3u6"
   },
   "outputs": [],
   "source": []
  },
  {
   "cell_type": "code",
   "execution_count": null,
   "metadata": {
    "id": "XmJnt79SQ3xr"
   },
   "outputs": [],
   "source": []
  },
  {
   "cell_type": "markdown",
   "metadata": {
    "id": "b1B7Eag6g_vE"
   },
   "source": []
  },
  {
   "cell_type": "markdown",
   "metadata": {
    "id": "Ga46rH_8T0Qw"
   },
   "source": [
    "# Modeling By gouvernorat"
   ]
  },
  {
   "cell_type": "code",
   "execution_count": null,
   "metadata": {
    "id": "ZnnRBV0WQ30x"
   },
   "outputs": [],
   "source": [
    "grouped = df.groupby('gouvernorat')\n",
    "  \n",
    "df_NABEUL= grouped.get_group('NABEUL')\n",
    "df_NABEUL.to_csv(\"df_NABEUL.csv\",sep=\",\")\n",
    "\n",
    "df_TUNIS= grouped.get_group('TUNIS')\n",
    "df_TUNIS.to_csv(\"df_TUNIS.csv\",sep=\",\")\n",
    "\n",
    "df_ARIANA= grouped.get_group('ARIANA')\n",
    "df_ARIANA.to_csv(\"df_ARIANA.csv\",sep=\",\")\n",
    "\n",
    "df_SOUSSE= grouped.get_group('SOUSSE')\n",
    "df_SOUSSE.to_csv(\"df_SOUSSE.csv\",sep=\",\")\n",
    "\n",
    "df_BENAROUS= grouped.get_group('BEN AROUS')\n",
    "df_BENAROUS.to_csv(\"df_BENAROUS.csv\",sep=\",\")\n"
   ]
  },
  {
   "cell_type": "code",
   "execution_count": null,
   "metadata": {
    "id": "KPfs7ehkSR2N"
   },
   "outputs": [],
   "source": [
    "df3 = pd.read_csv('/content/df_NABEUL.csv')\n",
    "df4 = pd.read_csv('/content/df_TUNIS.csv')\n",
    "df5 = pd.read_csv('/content/df_ARIANA.csv')\n",
    "df6 = pd.read_csv('/content/df_SOUSSE.csv')\n",
    "df7 = pd.read_csv('/content/df_BENAROUS.csv')\n"
   ]
  },
  {
   "cell_type": "markdown",
   "metadata": {
    "id": "zOF8uuQ3UOj2"
   },
   "source": [
    "### Modeling by Gouvernorat Nabeul"
   ]
  },
  {
   "cell_type": "code",
   "execution_count": null,
   "metadata": {
    "colab": {
     "base_uri": "https://localhost:8080/"
    },
    "id": "SG5ABmDCVXi8",
    "outputId": "2294e744-f57c-41ce-e29f-740baba0db3a"
   },
   "outputs": [
    {
     "name": "stdout",
     "output_type": "stream",
     "text": [
      "<class 'pandas.core.frame.DataFrame'>\n",
      "RangeIndex: 4511 entries, 0 to 4510\n",
      "Data columns (total 22 columns):\n",
      " #   Column                   Non-Null Count  Dtype  \n",
      "---  ------                   --------------  -----  \n",
      " 0   Unnamed: 0               4511 non-null   int64  \n",
      " 1   price                    4511 non-null   float64\n",
      " 2   superficie_habitable     4511 non-null   float64\n",
      " 3   superficie_terrain       4511 non-null   float64\n",
      " 4   codeP                    332 non-null    float64\n",
      " 5   gouvernorat              4511 non-null   object \n",
      " 6   delegation               4157 non-null   object \n",
      " 7   localite                 561 non-null    object \n",
      " 8   adresse                  4368 non-null   object \n",
      " 9   anneeConst               13 non-null     float64\n",
      " 10  nbpiece                  4511 non-null   int64  \n",
      " 11  typeImm                  4511 non-null   object \n",
      " 12  fonds                    314 non-null    object \n",
      " 13  plein_air                0 non-null      float64\n",
      " 14  salle_de_bain            974 non-null    object \n",
      " 15  constructible            62 non-null     object \n",
      " 16  service                  0 non-null      float64\n",
      " 17  chauffage                0 non-null      float64\n",
      " 18  climatisation            0 non-null      float64\n",
      " 19  cuisine                  0 non-null      float64\n",
      " 20  installations_sportives  0 non-null      float64\n",
      " 21  description              1666 non-null   object \n",
      "dtypes: float64(11), int64(2), object(9)\n",
      "memory usage: 775.5+ KB\n"
     ]
    }
   ],
   "source": [
    "df3.info()"
   ]
  },
  {
   "cell_type": "code",
   "execution_count": null,
   "metadata": {
    "id": "cjOxzOd5SWwZ"
   },
   "outputs": [],
   "source": [
    "array = df3.values\n",
    "X3=df3.drop(\"price\",axis=1)\n",
    "y3=df3[\"price\"]"
   ]
  },
  {
   "cell_type": "code",
   "execution_count": null,
   "metadata": {
    "id": "UtF_manVSeke"
   },
   "outputs": [],
   "source": [
    "from sklearn.model_selection import train_test_split \n",
    "X_train3,X_test3,y_train3,y_test3=train_test_split(X3,y3,train_size=0.8,test_size=0.2,random_state=0)\n"
   ]
  },
  {
   "cell_type": "code",
   "execution_count": null,
   "metadata": {
    "colab": {
     "base_uri": "https://localhost:8080/"
    },
    "id": "ZUQEun5BSmTG",
    "outputId": "c1b45dc7-00a2-4a7b-8f86-0f817efde4d4"
   },
   "outputs": [
    {
     "name": "stdout",
     "output_type": "stream",
     "text": [
      "[10:58:43] WARNING: /workspace/src/objective/regression_obj.cu:152: reg:linear is now deprecated in favor of reg:squarederror.\n"
     ]
    }
   ],
   "source": [
    "#model implementation and fitting data\n",
    "xg_reg = xgb.XGBRegressor(objective ='reg:linear', learning_rate = 0.3,\n",
    "                max_depth = 5, alpha = 1, n_estimators = 300)\n",
    "xg_reg.fit(X_train3,y_train3)\n",
    "y_predXG = xg_reg.predict(X_test3)"
   ]
  },
  {
   "cell_type": "code",
   "execution_count": null,
   "metadata": {
    "colab": {
     "base_uri": "https://localhost:8080/"
    },
    "id": "AdiaEC9WTOkg",
    "outputId": "7eb0e504-d96a-4874-b148-d578b874b8b6"
   },
   "outputs": [
    {
     "name": "stdout",
     "output_type": "stream",
     "text": [
      "0.43815050752487006\n"
     ]
    }
   ],
   "source": [
    "Nabeul=xg_reg.score(X_test3,y_test3)\n",
    "print(Nabeul)"
   ]
  },
  {
   "cell_type": "markdown",
   "metadata": {
    "id": "4nJ1ob_XUm4B"
   },
   "source": [
    "### Modeling by Gouvernorat Tunis"
   ]
  },
  {
   "cell_type": "code",
   "execution_count": null,
   "metadata": {
    "colab": {
     "base_uri": "https://localhost:8080/"
    },
    "id": "6az_1YXgVFpX",
    "outputId": "9041fae6-8c18-4a87-961b-2c372dcb27f8"
   },
   "outputs": [
    {
     "name": "stdout",
     "output_type": "stream",
     "text": [
      "<class 'pandas.core.frame.DataFrame'>\n",
      "RangeIndex: 1943 entries, 0 to 1942\n",
      "Data columns (total 22 columns):\n",
      " #   Column                   Non-Null Count  Dtype  \n",
      "---  ------                   --------------  -----  \n",
      " 0   Unnamed: 0               1943 non-null   int64  \n",
      " 1   price                    1943 non-null   float64\n",
      " 2   superficie_habitable     1943 non-null   float64\n",
      " 3   superficie_terrain       1943 non-null   float64\n",
      " 4   codeP                    208 non-null    float64\n",
      " 5   gouvernorat              1943 non-null   object \n",
      " 6   delegation               1394 non-null   object \n",
      " 7   localite                 1045 non-null   object \n",
      " 8   adresse                  1682 non-null   object \n",
      " 9   anneeConst               10 non-null     float64\n",
      " 10  nbpiece                  1943 non-null   int64  \n",
      " 11  typeImm                  1943 non-null   object \n",
      " 12  fonds                    62 non-null     object \n",
      " 13  plein_air                0 non-null      float64\n",
      " 14  salle_de_bain            581 non-null    object \n",
      " 15  constructible            6 non-null      object \n",
      " 16  service                  0 non-null      float64\n",
      " 17  chauffage                0 non-null      float64\n",
      " 18  climatisation            0 non-null      float64\n",
      " 19  cuisine                  0 non-null      float64\n",
      " 20  installations_sportives  0 non-null      float64\n",
      " 21  description              1047 non-null   object \n",
      "dtypes: float64(11), int64(2), object(9)\n",
      "memory usage: 334.1+ KB\n"
     ]
    }
   ],
   "source": [
    "df4.info()"
   ]
  },
  {
   "cell_type": "code",
   "execution_count": null,
   "metadata": {
    "id": "E6A8NP-VUr7N"
   },
   "outputs": [],
   "source": [
    "array = df4.values\n",
    "X4=df4.drop(\"price\",axis=1)\n",
    "y4=df4[\"price\"]"
   ]
  },
  {
   "cell_type": "code",
   "execution_count": null,
   "metadata": {
    "id": "UrYlz7l6VfRB"
   },
   "outputs": [],
   "source": [
    "from sklearn.model_selection import train_test_split \n",
    "X_train4,X_test4,y_train4,y_test4=train_test_split(X4,y4,train_size=0.8,test_size=0.2,random_state=0)\n"
   ]
  },
  {
   "cell_type": "code",
   "execution_count": null,
   "metadata": {
    "colab": {
     "base_uri": "https://localhost:8080/"
    },
    "id": "UygxgLqcVnVc",
    "outputId": "523f602c-c6ff-4b98-d0be-8f706f1f074b"
   },
   "outputs": [
    {
     "name": "stdout",
     "output_type": "stream",
     "text": [
      "[11:05:00] WARNING: /workspace/src/objective/regression_obj.cu:152: reg:linear is now deprecated in favor of reg:squarederror.\n"
     ]
    }
   ],
   "source": [
    "#model implementation and fitting data\n",
    "xg_reg = xgb.XGBRegressor(objective ='reg:linear', learning_rate = 0.3,\n",
    "                max_depth = 5, alpha = 1, n_estimators = 300)\n",
    "xg_reg.fit(X_train4,y_train4)\n",
    "y_predXG = xg_reg.predict(X_test4)"
   ]
  },
  {
   "cell_type": "code",
   "execution_count": null,
   "metadata": {
    "colab": {
     "base_uri": "https://localhost:8080/"
    },
    "id": "zUbmHnmIVt-7",
    "outputId": "2fcbe42b-87a7-422e-982d-f6a7071b5cbb"
   },
   "outputs": [
    {
     "name": "stdout",
     "output_type": "stream",
     "text": [
      "0.7213812830014115\n"
     ]
    }
   ],
   "source": [
    "Tunis=xg_reg.score(X_test4,y_test4)\n",
    "print(Tunis)"
   ]
  },
  {
   "cell_type": "markdown",
   "metadata": {
    "id": "bgVRk2smV4my"
   },
   "source": [
    "### Modeling by Gouvernorat Ariana"
   ]
  },
  {
   "cell_type": "code",
   "execution_count": null,
   "metadata": {
    "colab": {
     "base_uri": "https://localhost:8080/"
    },
    "id": "Pi1O0aJwWY3k",
    "outputId": "58566756-9cd0-4770-ea67-3c3a449f3ff2"
   },
   "outputs": [
    {
     "name": "stdout",
     "output_type": "stream",
     "text": [
      "<class 'pandas.core.frame.DataFrame'>\n",
      "RangeIndex: 1907 entries, 0 to 1906\n",
      "Data columns (total 22 columns):\n",
      " #   Column                   Non-Null Count  Dtype  \n",
      "---  ------                   --------------  -----  \n",
      " 0   Unnamed: 0               1907 non-null   int64  \n",
      " 1   price                    1907 non-null   float64\n",
      " 2   superficie_habitable     1907 non-null   float64\n",
      " 3   superficie_terrain       1907 non-null   float64\n",
      " 4   codeP                    205 non-null    float64\n",
      " 5   gouvernorat              1907 non-null   object \n",
      " 6   delegation               1624 non-null   object \n",
      " 7   localite                 905 non-null    object \n",
      " 8   adresse                  1701 non-null   object \n",
      " 9   anneeConst               21 non-null     object \n",
      " 10  nbpiece                  1907 non-null   int64  \n",
      " 11  typeImm                  1907 non-null   object \n",
      " 12  fonds                    62 non-null     object \n",
      " 13  plein_air                0 non-null      float64\n",
      " 14  salle_de_bain            648 non-null    object \n",
      " 15  constructible            4 non-null      object \n",
      " 16  service                  0 non-null      float64\n",
      " 17  chauffage                0 non-null      float64\n",
      " 18  climatisation            0 non-null      float64\n",
      " 19  cuisine                  0 non-null      float64\n",
      " 20  installations_sportives  0 non-null      float64\n",
      " 21  description              762 non-null    object \n",
      "dtypes: float64(10), int64(2), object(10)\n",
      "memory usage: 327.9+ KB\n"
     ]
    }
   ],
   "source": [
    "df5.info()"
   ]
  },
  {
   "cell_type": "code",
   "execution_count": null,
   "metadata": {
    "id": "5dZzaEEOW1AS"
   },
   "outputs": [],
   "source": [
    "array = df5.values\n",
    "X5=df5.drop(\"price\",axis=1)\n",
    "y5=df5[\"price\"]"
   ]
  },
  {
   "cell_type": "code",
   "execution_count": null,
   "metadata": {
    "id": "JztXJdm0W7Bf"
   },
   "outputs": [],
   "source": [
    "X_train5,X_test5,y_train5,y_test5=train_test_split(X5,y5,train_size=0.8,test_size=0.2,random_state=0)\n"
   ]
  },
  {
   "cell_type": "code",
   "execution_count": null,
   "metadata": {
    "colab": {
     "base_uri": "https://localhost:8080/"
    },
    "id": "O9K32akkXEUd",
    "outputId": "5178ebfe-978e-4bde-f5bd-f462972e1110"
   },
   "outputs": [
    {
     "name": "stdout",
     "output_type": "stream",
     "text": [
      "[11:01:14] WARNING: /workspace/src/objective/regression_obj.cu:152: reg:linear is now deprecated in favor of reg:squarederror.\n"
     ]
    }
   ],
   "source": [
    "#model implementation and fitting data\n",
    "xg_reg = xgb.XGBRegressor(objective ='reg:linear', learning_rate = 0.3,\n",
    "                max_depth = 5, alpha = 1, n_estimators = 300)\n",
    "xg_reg.fit(X_train5,y_train5)\n",
    "y_predXG = xg_reg.predict(X_test5)"
   ]
  },
  {
   "cell_type": "code",
   "execution_count": null,
   "metadata": {
    "colab": {
     "base_uri": "https://localhost:8080/"
    },
    "id": "vrvibk7dXLQd",
    "outputId": "3305980d-9101-457e-eb19-286891c6ccff"
   },
   "outputs": [
    {
     "name": "stdout",
     "output_type": "stream",
     "text": [
      "0.7049034504050959\n"
     ]
    }
   ],
   "source": [
    "Ariana=xg_reg.score(X_test5,y_test5)\n",
    "print(Ariana)"
   ]
  },
  {
   "cell_type": "markdown",
   "metadata": {
    "id": "y9yF4ZvJXSPR"
   },
   "source": [
    "### Modeling by Gouvernorat Sousse"
   ]
  },
  {
   "cell_type": "code",
   "execution_count": null,
   "metadata": {
    "colab": {
     "base_uri": "https://localhost:8080/"
    },
    "id": "k_SsvznJXdEa",
    "outputId": "ae76056c-220e-4dd9-83f8-ad1099d2349a"
   },
   "outputs": [
    {
     "name": "stdout",
     "output_type": "stream",
     "text": [
      "<class 'pandas.core.frame.DataFrame'>\n",
      "RangeIndex: 1491 entries, 0 to 1490\n",
      "Data columns (total 22 columns):\n",
      " #   Column                   Non-Null Count  Dtype  \n",
      "---  ------                   --------------  -----  \n",
      " 0   Unnamed: 0               1491 non-null   int64  \n",
      " 1   price                    1491 non-null   float64\n",
      " 2   superficie_habitable     1491 non-null   float64\n",
      " 3   superficie_terrain       1491 non-null   float64\n",
      " 4   codeP                    494 non-null    float64\n",
      " 5   gouvernorat              1491 non-null   object \n",
      " 6   delegation               921 non-null    object \n",
      " 7   localite                 651 non-null    object \n",
      " 8   adresse                  1402 non-null   object \n",
      " 9   anneeConst               11 non-null     float64\n",
      " 10  nbpiece                  1491 non-null   int64  \n",
      " 11  typeImm                  1491 non-null   object \n",
      " 12  fonds                    69 non-null     object \n",
      " 13  plein_air                0 non-null      float64\n",
      " 14  salle_de_bain            733 non-null    object \n",
      " 15  constructible            16 non-null     object \n",
      " 16  service                  0 non-null      float64\n",
      " 17  chauffage                0 non-null      float64\n",
      " 18  climatisation            0 non-null      float64\n",
      " 19  cuisine                  0 non-null      float64\n",
      " 20  installations_sportives  0 non-null      float64\n",
      " 21  description              440 non-null    object \n",
      "dtypes: float64(11), int64(2), object(9)\n",
      "memory usage: 256.4+ KB\n"
     ]
    }
   ],
   "source": [
    "df6.info()"
   ]
  },
  {
   "cell_type": "code",
   "execution_count": null,
   "metadata": {
    "id": "fb2Q2lIPX3Zm"
   },
   "outputs": [],
   "source": [
    "array = df6.values\n",
    "X6=df6.drop(\"price\",axis=1)\n",
    "y6=df6[\"price\"]"
   ]
  },
  {
   "cell_type": "code",
   "execution_count": null,
   "metadata": {
    "id": "5ZU9hAlMX3cT"
   },
   "outputs": [],
   "source": [
    "X_train6,X_test6,y_train6,y_test6=train_test_split(X6,y6,train_size=0.8,test_size=0.2,random_state=0)\n"
   ]
  },
  {
   "cell_type": "code",
   "execution_count": null,
   "metadata": {
    "colab": {
     "base_uri": "https://localhost:8080/"
    },
    "id": "09v8zBdYX3fT",
    "outputId": "4c242c5b-0736-499b-9b5c-d901d906ec7a"
   },
   "outputs": [
    {
     "name": "stdout",
     "output_type": "stream",
     "text": [
      "[11:02:01] WARNING: /workspace/src/objective/regression_obj.cu:152: reg:linear is now deprecated in favor of reg:squarederror.\n"
     ]
    }
   ],
   "source": [
    "#model implementation and fitting data\n",
    "xg_reg = xgb.XGBRegressor(objective ='reg:linear', learning_rate = 0.3,\n",
    "                max_depth = 5, alpha = 1, n_estimators = 300)\n",
    "xg_reg.fit(X_train6,y_train6)\n",
    "y_predXG = xg_reg.predict(X_test6)"
   ]
  },
  {
   "cell_type": "code",
   "execution_count": null,
   "metadata": {
    "colab": {
     "base_uri": "https://localhost:8080/"
    },
    "id": "NZ39L0vZYLGA",
    "outputId": "e8510b31-b2e4-4740-9194-f6928f6a19c6"
   },
   "outputs": [
    {
     "name": "stdout",
     "output_type": "stream",
     "text": [
      "0.611935753611589\n"
     ]
    }
   ],
   "source": [
    "Sousse=xg_reg.score(X_test6,y_test6)\n",
    "print(Sousse)"
   ]
  },
  {
   "cell_type": "markdown",
   "metadata": {
    "id": "ANGpceevYTCK"
   },
   "source": [
    "### Modeling by Gouvernorat Ben Arous\n"
   ]
  },
  {
   "cell_type": "code",
   "execution_count": null,
   "metadata": {
    "colab": {
     "base_uri": "https://localhost:8080/"
    },
    "id": "woOev5DSYWBn",
    "outputId": "55fcbe8c-a439-4e98-e6b0-efd06c32dec6"
   },
   "outputs": [
    {
     "name": "stdout",
     "output_type": "stream",
     "text": [
      "<class 'pandas.core.frame.DataFrame'>\n",
      "RangeIndex: 865 entries, 0 to 864\n",
      "Data columns (total 22 columns):\n",
      " #   Column                   Non-Null Count  Dtype  \n",
      "---  ------                   --------------  -----  \n",
      " 0   Unnamed: 0               865 non-null    int64  \n",
      " 1   price                    865 non-null    float64\n",
      " 2   superficie_habitable     865 non-null    float64\n",
      " 3   superficie_terrain       865 non-null    float64\n",
      " 4   codeP                    243 non-null    float64\n",
      " 5   gouvernorat              865 non-null    object \n",
      " 6   delegation               472 non-null    object \n",
      " 7   localite                 288 non-null    object \n",
      " 8   adresse                  752 non-null    object \n",
      " 9   anneeConst               10 non-null     float64\n",
      " 10  nbpiece                  865 non-null    int64  \n",
      " 11  typeImm                  865 non-null    object \n",
      " 12  fonds                    36 non-null     object \n",
      " 13  plein_air                0 non-null      float64\n",
      " 14  salle_de_bain            328 non-null    object \n",
      " 15  constructible            1 non-null      object \n",
      " 16  service                  0 non-null      float64\n",
      " 17  chauffage                0 non-null      float64\n",
      " 18  climatisation            0 non-null      float64\n",
      " 19  cuisine                  0 non-null      float64\n",
      " 20  installations_sportives  0 non-null      float64\n",
      " 21  description              350 non-null    object \n",
      "dtypes: float64(11), int64(2), object(9)\n",
      "memory usage: 148.8+ KB\n"
     ]
    }
   ],
   "source": [
    "df7.info()"
   ]
  },
  {
   "cell_type": "code",
   "execution_count": null,
   "metadata": {
    "id": "cdqZ-8puYWEX"
   },
   "outputs": [],
   "source": [
    "array = df7.values\n",
    "X7=df7.drop(\"price\",axis=1)\n",
    "y7=df7[\"price\"]"
   ]
  },
  {
   "cell_type": "code",
   "execution_count": null,
   "metadata": {
    "id": "Emo9AzjdYWHS"
   },
   "outputs": [],
   "source": [
    "X_train7,X_test7,y_train7,y_test7=train_test_split(X7,y7,train_size=0.8,test_size=0.2,random_state=0)\n"
   ]
  },
  {
   "cell_type": "code",
   "execution_count": null,
   "metadata": {
    "colab": {
     "base_uri": "https://localhost:8080/"
    },
    "id": "cprV8D38Y-MC",
    "outputId": "7ea379f7-d557-498b-8020-3ed8cd0552c6"
   },
   "outputs": [
    {
     "name": "stdout",
     "output_type": "stream",
     "text": [
      "[11:02:32] WARNING: /workspace/src/objective/regression_obj.cu:152: reg:linear is now deprecated in favor of reg:squarederror.\n"
     ]
    }
   ],
   "source": [
    "#model implementation and fitting data\n",
    "xg_reg = xgb.XGBRegressor(objective ='reg:linear', learning_rate = 0.3,\n",
    "                max_depth = 5, alpha = 1, n_estimators = 300)\n",
    "xg_reg.fit(X_train7,y_train7)\n",
    "y_predXG = xg_reg.predict(X_test7)"
   ]
  },
  {
   "cell_type": "code",
   "execution_count": null,
   "metadata": {
    "colab": {
     "base_uri": "https://localhost:8080/"
    },
    "id": "sAX06hWGZEin",
    "outputId": "0dabce2c-6d29-48af-f36f-c321f14aa1c1"
   },
   "outputs": [
    {
     "name": "stdout",
     "output_type": "stream",
     "text": [
      "0.6102417978505053\n"
     ]
    }
   ],
   "source": [
    "Ben_Arous=xg_reg.score(X_test7,y_test7)\n",
    "print(Ben_Arous)"
   ]
  },
  {
   "cell_type": "code",
   "execution_count": null,
   "metadata": {
    "id": "f8PZU6aKZT9u"
   },
   "outputs": [],
   "source": []
  },
  {
   "cell_type": "markdown",
   "metadata": {
    "id": "bKW4hxDZb7nD"
   },
   "source": [
    "## Evaluation Modeling By TypeImm"
   ]
  },
  {
   "cell_type": "code",
   "execution_count": null,
   "metadata": {
    "colab": {
     "base_uri": "https://localhost:8080/",
     "height": 175
    },
    "id": "PPxQBW9ff0xt",
    "outputId": "a073bc00-ebb6-4b26-a265-5f99d57d188d"
   },
   "outputs": [
    {
     "data": {
      "text/html": [
       "\n",
       "  <div id=\"df-64fe9567-fb6a-48a8-855d-fc15e4e60435\">\n",
       "    <div class=\"colab-df-container\">\n",
       "      <div>\n",
       "<style scoped>\n",
       "    .dataframe tbody tr th:only-of-type {\n",
       "        vertical-align: middle;\n",
       "    }\n",
       "\n",
       "    .dataframe tbody tr th {\n",
       "        vertical-align: top;\n",
       "    }\n",
       "\n",
       "    .dataframe thead th {\n",
       "        text-align: right;\n",
       "    }\n",
       "</style>\n",
       "<table border=\"1\" class=\"dataframe\">\n",
       "  <thead>\n",
       "    <tr style=\"text-align: right;\">\n",
       "      <th></th>\n",
       "      <th>Model</th>\n",
       "      <th>Accuracy</th>\n",
       "    </tr>\n",
       "  </thead>\n",
       "  <tbody>\n",
       "    <tr>\n",
       "      <th>3</th>\n",
       "      <td>Appartement</td>\n",
       "      <td>0.425114</td>\n",
       "    </tr>\n",
       "    <tr>\n",
       "      <th>1</th>\n",
       "      <td>Maison</td>\n",
       "      <td>0.416072</td>\n",
       "    </tr>\n",
       "    <tr>\n",
       "      <th>2</th>\n",
       "      <td>Terrain</td>\n",
       "      <td>0.411711</td>\n",
       "    </tr>\n",
       "    <tr>\n",
       "      <th>0</th>\n",
       "      <td>Commerce</td>\n",
       "      <td>0.043453</td>\n",
       "    </tr>\n",
       "  </tbody>\n",
       "</table>\n",
       "</div>\n",
       "      <button class=\"colab-df-convert\" onclick=\"convertToInteractive('df-64fe9567-fb6a-48a8-855d-fc15e4e60435')\"\n",
       "              title=\"Convert this dataframe to an interactive table.\"\n",
       "              style=\"display:none;\">\n",
       "        \n",
       "  <svg xmlns=\"http://www.w3.org/2000/svg\" height=\"24px\"viewBox=\"0 0 24 24\"\n",
       "       width=\"24px\">\n",
       "    <path d=\"M0 0h24v24H0V0z\" fill=\"none\"/>\n",
       "    <path d=\"M18.56 5.44l.94 2.06.94-2.06 2.06-.94-2.06-.94-.94-2.06-.94 2.06-2.06.94zm-11 1L8.5 8.5l.94-2.06 2.06-.94-2.06-.94L8.5 2.5l-.94 2.06-2.06.94zm10 10l.94 2.06.94-2.06 2.06-.94-2.06-.94-.94-2.06-.94 2.06-2.06.94z\"/><path d=\"M17.41 7.96l-1.37-1.37c-.4-.4-.92-.59-1.43-.59-.52 0-1.04.2-1.43.59L10.3 9.45l-7.72 7.72c-.78.78-.78 2.05 0 2.83L4 21.41c.39.39.9.59 1.41.59.51 0 1.02-.2 1.41-.59l7.78-7.78 2.81-2.81c.8-.78.8-2.07 0-2.86zM5.41 20L4 18.59l7.72-7.72 1.47 1.35L5.41 20z\"/>\n",
       "  </svg>\n",
       "      </button>\n",
       "      \n",
       "  <style>\n",
       "    .colab-df-container {\n",
       "      display:flex;\n",
       "      flex-wrap:wrap;\n",
       "      gap: 12px;\n",
       "    }\n",
       "\n",
       "    .colab-df-convert {\n",
       "      background-color: #E8F0FE;\n",
       "      border: none;\n",
       "      border-radius: 50%;\n",
       "      cursor: pointer;\n",
       "      display: none;\n",
       "      fill: #1967D2;\n",
       "      height: 32px;\n",
       "      padding: 0 0 0 0;\n",
       "      width: 32px;\n",
       "    }\n",
       "\n",
       "    .colab-df-convert:hover {\n",
       "      background-color: #E2EBFA;\n",
       "      box-shadow: 0px 1px 2px rgba(60, 64, 67, 0.3), 0px 1px 3px 1px rgba(60, 64, 67, 0.15);\n",
       "      fill: #174EA6;\n",
       "    }\n",
       "\n",
       "    [theme=dark] .colab-df-convert {\n",
       "      background-color: #3B4455;\n",
       "      fill: #D2E3FC;\n",
       "    }\n",
       "\n",
       "    [theme=dark] .colab-df-convert:hover {\n",
       "      background-color: #434B5C;\n",
       "      box-shadow: 0px 1px 3px 1px rgba(0, 0, 0, 0.15);\n",
       "      filter: drop-shadow(0px 1px 2px rgba(0, 0, 0, 0.3));\n",
       "      fill: #FFFFFF;\n",
       "    }\n",
       "  </style>\n",
       "\n",
       "      <script>\n",
       "        const buttonEl =\n",
       "          document.querySelector('#df-64fe9567-fb6a-48a8-855d-fc15e4e60435 button.colab-df-convert');\n",
       "        buttonEl.style.display =\n",
       "          google.colab.kernel.accessAllowed ? 'block' : 'none';\n",
       "\n",
       "        async function convertToInteractive(key) {\n",
       "          const element = document.querySelector('#df-64fe9567-fb6a-48a8-855d-fc15e4e60435');\n",
       "          const dataTable =\n",
       "            await google.colab.kernel.invokeFunction('convertToInteractive',\n",
       "                                                     [key], {});\n",
       "          if (!dataTable) return;\n",
       "\n",
       "          const docLinkHtml = 'Like what you see? Visit the ' +\n",
       "            '<a target=\"_blank\" href=https://colab.research.google.com/notebooks/data_table.ipynb>data table notebook</a>'\n",
       "            + ' to learn more about interactive tables.';\n",
       "          element.innerHTML = '';\n",
       "          dataTable['output_type'] = 'display_data';\n",
       "          await google.colab.output.renderOutput(dataTable, element);\n",
       "          const docLink = document.createElement('div');\n",
       "          docLink.innerHTML = docLinkHtml;\n",
       "          element.appendChild(docLink);\n",
       "        }\n",
       "      </script>\n",
       "    </div>\n",
       "  </div>\n",
       "  "
      ],
      "text/plain": [
       "         Model  Accuracy\n",
       "3  Appartement  0.425114\n",
       "1       Maison  0.416072\n",
       "2      Terrain  0.411711\n",
       "0     Commerce  0.043453"
      ]
     },
     "execution_count": 119,
     "metadata": {},
     "output_type": "execute_result"
    }
   ],
   "source": [
    "models = pd.DataFrame({\n",
    "    'Model': ['Commerce','Maison',\n",
    "              'Terrain','Appartement'],\n",
    "    'Accuracy': [Commerce,Maison,Terrain,Appartement]})\n",
    "models.sort_values(by=\"Accuracy\",ascending=False)"
   ]
  },
  {
   "cell_type": "markdown",
   "metadata": {
    "id": "GwbCcIsTbyir"
   },
   "source": [
    "## Evaluation Modeling By Gouvernorat"
   ]
  },
  {
   "cell_type": "code",
   "execution_count": null,
   "metadata": {
    "colab": {
     "base_uri": "https://localhost:8080/",
     "height": 206
    },
    "id": "zNg0EGUWZUBr",
    "outputId": "64d0bd7c-97ae-4a87-eb12-f7d23e469329"
   },
   "outputs": [
    {
     "data": {
      "text/html": [
       "\n",
       "  <div id=\"df-942ab8c0-e6ed-4328-8ce9-223c5c73d8bf\">\n",
       "    <div class=\"colab-df-container\">\n",
       "      <div>\n",
       "<style scoped>\n",
       "    .dataframe tbody tr th:only-of-type {\n",
       "        vertical-align: middle;\n",
       "    }\n",
       "\n",
       "    .dataframe tbody tr th {\n",
       "        vertical-align: top;\n",
       "    }\n",
       "\n",
       "    .dataframe thead th {\n",
       "        text-align: right;\n",
       "    }\n",
       "</style>\n",
       "<table border=\"1\" class=\"dataframe\">\n",
       "  <thead>\n",
       "    <tr style=\"text-align: right;\">\n",
       "      <th></th>\n",
       "      <th>Model</th>\n",
       "      <th>Accuracy</th>\n",
       "    </tr>\n",
       "  </thead>\n",
       "  <tbody>\n",
       "    <tr>\n",
       "      <th>1</th>\n",
       "      <td>Tunis</td>\n",
       "      <td>0.721381</td>\n",
       "    </tr>\n",
       "    <tr>\n",
       "      <th>2</th>\n",
       "      <td>Ariana</td>\n",
       "      <td>0.704903</td>\n",
       "    </tr>\n",
       "    <tr>\n",
       "      <th>3</th>\n",
       "      <td>Sousse</td>\n",
       "      <td>0.611936</td>\n",
       "    </tr>\n",
       "    <tr>\n",
       "      <th>4</th>\n",
       "      <td>Ben_Arous</td>\n",
       "      <td>0.610242</td>\n",
       "    </tr>\n",
       "    <tr>\n",
       "      <th>0</th>\n",
       "      <td>Nabeul</td>\n",
       "      <td>0.438151</td>\n",
       "    </tr>\n",
       "  </tbody>\n",
       "</table>\n",
       "</div>\n",
       "      <button class=\"colab-df-convert\" onclick=\"convertToInteractive('df-942ab8c0-e6ed-4328-8ce9-223c5c73d8bf')\"\n",
       "              title=\"Convert this dataframe to an interactive table.\"\n",
       "              style=\"display:none;\">\n",
       "        \n",
       "  <svg xmlns=\"http://www.w3.org/2000/svg\" height=\"24px\"viewBox=\"0 0 24 24\"\n",
       "       width=\"24px\">\n",
       "    <path d=\"M0 0h24v24H0V0z\" fill=\"none\"/>\n",
       "    <path d=\"M18.56 5.44l.94 2.06.94-2.06 2.06-.94-2.06-.94-.94-2.06-.94 2.06-2.06.94zm-11 1L8.5 8.5l.94-2.06 2.06-.94-2.06-.94L8.5 2.5l-.94 2.06-2.06.94zm10 10l.94 2.06.94-2.06 2.06-.94-2.06-.94-.94-2.06-.94 2.06-2.06.94z\"/><path d=\"M17.41 7.96l-1.37-1.37c-.4-.4-.92-.59-1.43-.59-.52 0-1.04.2-1.43.59L10.3 9.45l-7.72 7.72c-.78.78-.78 2.05 0 2.83L4 21.41c.39.39.9.59 1.41.59.51 0 1.02-.2 1.41-.59l7.78-7.78 2.81-2.81c.8-.78.8-2.07 0-2.86zM5.41 20L4 18.59l7.72-7.72 1.47 1.35L5.41 20z\"/>\n",
       "  </svg>\n",
       "      </button>\n",
       "      \n",
       "  <style>\n",
       "    .colab-df-container {\n",
       "      display:flex;\n",
       "      flex-wrap:wrap;\n",
       "      gap: 12px;\n",
       "    }\n",
       "\n",
       "    .colab-df-convert {\n",
       "      background-color: #E8F0FE;\n",
       "      border: none;\n",
       "      border-radius: 50%;\n",
       "      cursor: pointer;\n",
       "      display: none;\n",
       "      fill: #1967D2;\n",
       "      height: 32px;\n",
       "      padding: 0 0 0 0;\n",
       "      width: 32px;\n",
       "    }\n",
       "\n",
       "    .colab-df-convert:hover {\n",
       "      background-color: #E2EBFA;\n",
       "      box-shadow: 0px 1px 2px rgba(60, 64, 67, 0.3), 0px 1px 3px 1px rgba(60, 64, 67, 0.15);\n",
       "      fill: #174EA6;\n",
       "    }\n",
       "\n",
       "    [theme=dark] .colab-df-convert {\n",
       "      background-color: #3B4455;\n",
       "      fill: #D2E3FC;\n",
       "    }\n",
       "\n",
       "    [theme=dark] .colab-df-convert:hover {\n",
       "      background-color: #434B5C;\n",
       "      box-shadow: 0px 1px 3px 1px rgba(0, 0, 0, 0.15);\n",
       "      filter: drop-shadow(0px 1px 2px rgba(0, 0, 0, 0.3));\n",
       "      fill: #FFFFFF;\n",
       "    }\n",
       "  </style>\n",
       "\n",
       "      <script>\n",
       "        const buttonEl =\n",
       "          document.querySelector('#df-942ab8c0-e6ed-4328-8ce9-223c5c73d8bf button.colab-df-convert');\n",
       "        buttonEl.style.display =\n",
       "          google.colab.kernel.accessAllowed ? 'block' : 'none';\n",
       "\n",
       "        async function convertToInteractive(key) {\n",
       "          const element = document.querySelector('#df-942ab8c0-e6ed-4328-8ce9-223c5c73d8bf');\n",
       "          const dataTable =\n",
       "            await google.colab.kernel.invokeFunction('convertToInteractive',\n",
       "                                                     [key], {});\n",
       "          if (!dataTable) return;\n",
       "\n",
       "          const docLinkHtml = 'Like what you see? Visit the ' +\n",
       "            '<a target=\"_blank\" href=https://colab.research.google.com/notebooks/data_table.ipynb>data table notebook</a>'\n",
       "            + ' to learn more about interactive tables.';\n",
       "          element.innerHTML = '';\n",
       "          dataTable['output_type'] = 'display_data';\n",
       "          await google.colab.output.renderOutput(dataTable, element);\n",
       "          const docLink = document.createElement('div');\n",
       "          docLink.innerHTML = docLinkHtml;\n",
       "          element.appendChild(docLink);\n",
       "        }\n",
       "      </script>\n",
       "    </div>\n",
       "  </div>\n",
       "  "
      ],
      "text/plain": [
       "       Model  Accuracy\n",
       "1      Tunis  0.721381\n",
       "2     Ariana  0.704903\n",
       "3     Sousse  0.611936\n",
       "4  Ben_Arous  0.610242\n",
       "0     Nabeul  0.438151"
      ]
     },
     "execution_count": 79,
     "metadata": {},
     "output_type": "execute_result"
    }
   ],
   "source": [
    "\n",
    "models = pd.DataFrame({\n",
    "    'Model': ['Nabeul','Tunis',\n",
    "              'Ariana','Sousse','Ben_Arous'],\n",
    "    'Accuracy': [Nabeul,Tunis,Ariana,Sousse,Ben_Arous]})\n",
    "models.sort_values(by=\"Accuracy\",ascending=False)"
   ]
  }
 ],
 "metadata": {
  "colab": {
   "collapsed_sections": [],
   "name": "Untitled10.ipynb",
   "provenance": []
  },
  "kernelspec": {
   "display_name": "Python 3 (ipykernel)",
   "language": "python",
   "name": "python3"
  },
  "language_info": {
   "codemirror_mode": {
    "name": "ipython",
    "version": 3
   },
   "file_extension": ".py",
   "mimetype": "text/x-python",
   "name": "python",
   "nbconvert_exporter": "python",
   "pygments_lexer": "ipython3",
   "version": "3.9.7"
  }
 },
 "nbformat": 4,
 "nbformat_minor": 4
}
